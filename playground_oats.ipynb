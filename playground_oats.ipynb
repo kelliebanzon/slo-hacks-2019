{
 "cells": [
  {
   "cell_type": "markdown",
   "metadata": {
    "colab_type": "text",
    "id": "view-in-github"
   },
   "source": [
    "<a href=\"https://colab.research.google.com/github/kelliebanzon/slo-hacks-2019/blob/master/playground.ipynb\" target=\"_parent\"><img src=\"https://colab.research.google.com/assets/colab-badge.svg\" alt=\"Open In Colab\"/></a>"
   ]
  },
  {
   "cell_type": "markdown",
   "metadata": {
    "colab_type": "text",
    "id": "kGlJqvVwllCa"
   },
   "source": [
    "**Setup**\n",
    "\n",
    "The main thing here is the getMetaData function at the bottom"
   ]
  },
  {
   "cell_type": "code",
   "execution_count": 1,
   "metadata": {
    "colab": {
     "base_uri": "https://localhost:8080/",
     "height": 238
    },
    "colab_type": "code",
    "collapsed": true,
    "id": "WIHtKVo_Wkmu",
    "outputId": "9d63558b-e74e-4e39-a2d9-9787272968aa"
   },
   "outputs": [],
   "source": [
    "# !pip install spotipy\n"
   ]
  },
  {
   "cell_type": "code",
   "execution_count": 2,
   "metadata": {
    "colab": {},
    "colab_type": "code",
    "collapsed": true,
    "id": "7BjUUJpMWz4y"
   },
   "outputs": [],
   "source": [
    "import sys\n",
    "import json\n",
    "import spotipy\n",
    "import spotipy.util as util\n",
    "from spotipy.oauth2 import SpotifyClientCredentials\n",
    "import numpy as np"
   ]
  },
  {
   "cell_type": "markdown",
   "metadata": {
    "colab_type": "text",
    "id": "cF_yNqlwZ2Nw"
   },
   "source": [
    "**Authentication**"
   ]
  },
  {
   "cell_type": "code",
   "execution_count": 3,
   "metadata": {
    "colab": {},
    "colab_type": "code",
    "collapsed": true,
    "id": "rYgfr9oFgmaU"
   },
   "outputs": [],
   "source": [
    "username = \"1280726428\"\n",
    "scope = \"user-library-read\"\n",
    "\n",
    "client_credentials_manager = SpotifyClientCredentials(client_id='c2cf260ff28e4694bcb1eb0a29191b74', client_secret='83713ae562c04d7e96220f60749a6989')\n",
    "sp = spotipy.Spotify(client_credentials_manager=client_credentials_manager)"
   ]
  },
  {
   "cell_type": "markdown",
   "metadata": {
    "colab_type": "text",
    "id": "nXcqpn94aC1L"
   },
   "source": [
    "**Loop though users playlists**\n"
   ]
  },
  {
   "cell_type": "code",
   "execution_count": 4,
   "metadata": {
    "colab": {
     "base_uri": "https://localhost:8080/",
     "height": 445
    },
    "colab_type": "code",
    "id": "d0Cc20keYl9l",
    "outputId": "1a5cc449-fe99-4c57-b345-b17ec96e4ff0"
   },
   "outputs": [
    {
     "name": "stdout",
     "output_type": "stream",
     "text": [
      "Cheery Rap\n",
      "  total tracks 4\n",
      "[{\"danceability\": 0.746, \"energy\": 0.653, \"key\": 7, \"loudness\": -6.745, \"mode\": 1, \"speechiness\": 0.289, \"acousticness\": 0.378, \"instrumentalness\": 0, \"liveness\": 0.229, \"valence\": 0.672, \"tempo\": 75.016, \"type\": \"audio_features\", \"id\": \"2EEeOnHehOozLq4aS0n6SL\", \"uri\": \"spotify:track:2EEeOnHehOozLq4aS0n6SL\", \"track_href\": \"https://api.spotify.com/v1/tracks/2EEeOnHehOozLq4aS0n6SL\", \"analysis_url\": \"https://api.spotify.com/v1/audio-analysis/2EEeOnHehOozLq4aS0n6SL\", \"duration_ms\": 253107, \"time_signature\": 4}, {\"danceability\": 0.886, \"energy\": 0.525, \"key\": 8, \"loudness\": -7.39, \"mode\": 1, \"speechiness\": 0.132, \"acousticness\": 0.236, \"instrumentalness\": 0, \"liveness\": 0.057, \"valence\": 0.708, \"tempo\": 145.99, \"type\": \"audio_features\", \"id\": \"0qy5D3OJre7SPJNMOL9I71\", \"uri\": \"spotify:track:0qy5D3OJre7SPJNMOL9I71\", \"track_href\": \"https://api.spotify.com/v1/tracks/0qy5D3OJre7SPJNMOL9I71\", \"analysis_url\": \"https://api.spotify.com/v1/audio-analysis/0qy5D3OJre7SPJNMOL9I71\", \"duration_ms\": 225205, \"time_signature\": 4}, {\"danceability\": 0.941, \"energy\": 0.335, \"key\": 5, \"loudness\": -10.179, \"mode\": 0, \"speechiness\": 0.505, \"acousticness\": 0.17, \"instrumentalness\": 0, \"liveness\": 0.262, \"valence\": 0.707, \"tempo\": 120.041, \"type\": \"audio_features\", \"id\": \"5hTpBe8h35rJ67eAWHQsJx\", \"uri\": \"spotify:track:5hTpBe8h35rJ67eAWHQsJx\", \"track_href\": \"https://api.spotify.com/v1/tracks/5hTpBe8h35rJ67eAWHQsJx\", \"analysis_url\": \"https://api.spotify.com/v1/audio-analysis/5hTpBe8h35rJ67eAWHQsJx\", \"duration_ms\": 209640, \"time_signature\": 4}, {\"danceability\": 0.878, \"energy\": 0.654, \"key\": 0, \"loudness\": -7.262, \"mode\": 1, \"speechiness\": 0.208, \"acousticness\": 0.0527, \"instrumentalness\": 0, \"liveness\": 0.0992, \"valence\": 0.43, \"tempo\": 131.983, \"type\": \"audio_features\", \"id\": \"1py4qzrEEkOvU8uTHYLuOW\", \"uri\": \"spotify:track:1py4qzrEEkOvU8uTHYLuOW\", \"track_href\": \"https://api.spotify.com/v1/tracks/1py4qzrEEkOvU8uTHYLuOW\", \"analysis_url\": \"https://api.spotify.com/v1/audio-analysis/1py4qzrEEkOvU8uTHYLuOW\", \"duration_ms\": 177680, \"time_signature\": 4}]\n",
      "Work Productivity\n",
      "  total tracks 58\n",
      "[{\"danceability\": 0.598, \"energy\": 0.353, \"key\": 10, \"loudness\": -15.06, \"mode\": 0, \"speechiness\": 0.0343, \"acousticness\": 0.147, \"instrumentalness\": 3.91e-05, \"liveness\": 0.0592, \"valence\": 0.342, \"tempo\": 132.457, \"type\": \"audio_features\", \"id\": \"1JQ6Xm1JrvHfvAqhl5pwaA\", \"uri\": \"spotify:track:1JQ6Xm1JrvHfvAqhl5pwaA\", \"track_href\": \"https://api.spotify.com/v1/tracks/1JQ6Xm1JrvHfvAqhl5pwaA\", \"analysis_url\": \"https://api.spotify.com/v1/audio-analysis/1JQ6Xm1JrvHfvAqhl5pwaA\", \"duration_ms\": 256427, \"time_signature\": 4}, {\"danceability\": 0.547, \"energy\": 0.74, \"key\": 6, \"loudness\": -8.483, \"mode\": 0, \"speechiness\": 0.23, \"acousticness\": 0.0117, \"instrumentalness\": 1.57e-06, \"liveness\": 0.971, \"valence\": 0.704, \"tempo\": 88.334, \"type\": \"audio_features\", \"id\": \"1Ke6bqdvdGJF1ftvuO8qtP\", \"uri\": \"spotify:track:1Ke6bqdvdGJF1ftvuO8qtP\", \"track_href\": \"https://api.spotify.com/v1/tracks/1Ke6bqdvdGJF1ftvuO8qtP\", \"analysis_url\": \"https://api.spotify.com/v1/audio-analysis/1Ke6bqdvdGJF1ftvuO8qtP\", \"duration_ms\": 216867, \"time_signature\": 4}, {\"danceability\": 0.507, \"energy\": 0.803, \"key\": 5, \"loudness\": -5.314, \"mode\": 0, \"speechiness\": 0.214, \"acousticness\": 0.287, \"instrumentalness\": 0, \"liveness\": 0.267, \"valence\": 0.647, \"tempo\": 86.295, \"type\": \"audio_features\", \"id\": \"1g1zk6gOFE63kDszT1luxY\", \"uri\": \"spotify:track:1g1zk6gOFE63kDszT1luxY\", \"track_href\": \"https://api.spotify.com/v1/tracks/1g1zk6gOFE63kDszT1luxY\", \"analysis_url\": \"https://api.spotify.com/v1/audio-analysis/1g1zk6gOFE63kDszT1luxY\", \"duration_ms\": 182387, \"time_signature\": 4}, {\"danceability\": 0.714, \"energy\": 0.566, \"key\": 7, \"loudness\": -4.408, \"mode\": 1, \"speechiness\": 0.056, \"acousticness\": 0.142, \"instrumentalness\": 1.25e-06, \"liveness\": 0.57, \"valence\": 0.449, \"tempo\": 113.074, \"type\": \"audio_features\", \"id\": \"4KW1lqgSr8TKrvBII0Brf8\", \"uri\": \"spotify:track:4KW1lqgSr8TKrvBII0Brf8\", \"track_href\": \"https://api.spotify.com/v1/tracks/4KW1lqgSr8TKrvBII0Brf8\", \"analysis_url\": \"https://api.spotify.com/v1/audio-analysis/4KW1lqgSr8TKrvBII0Brf8\", \"duration_ms\": 135920, \"time_signature\": 4}, {\"danceability\": 0.842, \"energy\": 0.775, \"key\": 10, \"loudness\": -11.038, \"mode\": 0, \"speechiness\": 0.222, \"acousticness\": 0.0827, \"instrumentalness\": 1.41e-05, \"liveness\": 0.177, \"valence\": 0.526, \"tempo\": 104.959, \"type\": \"audio_features\", \"id\": \"4JNTpbntShpUpACDUzwHV5\", \"uri\": \"spotify:track:4JNTpbntShpUpACDUzwHV5\", \"track_href\": \"https://api.spotify.com/v1/tracks/4JNTpbntShpUpACDUzwHV5\", \"analysis_url\": \"https://api.spotify.com/v1/audio-analysis/4JNTpbntShpUpACDUzwHV5\", \"duration_ms\": 224160, \"time_signature\": 4}, {\"danceability\": 0.587, \"energy\": 0.631, \"key\": 1, \"loudness\": -6.811, \"mode\": 1, \"speechiness\": 0.308, \"acousticness\": 0.461, \"instrumentalness\": 1.54e-06, \"liveness\": 0.138, \"valence\": 0.733, \"tempo\": 80.108, \"type\": \"audio_features\", \"id\": \"1XQhZctQWzkznclbmbE7FQ\", \"uri\": \"spotify:track:1XQhZctQWzkznclbmbE7FQ\", \"track_href\": \"https://api.spotify.com/v1/tracks/1XQhZctQWzkznclbmbE7FQ\", \"analysis_url\": \"https://api.spotify.com/v1/audio-analysis/1XQhZctQWzkznclbmbE7FQ\", \"duration_ms\": 227893, \"time_signature\": 4}, {\"danceability\": 0.692, \"energy\": 0.726, \"key\": 1, \"loudness\": -6.427, \"mode\": 1, \"speechiness\": 0.0465, \"acousticness\": 0.0237, \"instrumentalness\": 2.33e-05, \"liveness\": 0.118, \"valence\": 0.782, \"tempo\": 87.008, \"type\": \"audio_features\", \"id\": \"5DfAKQmET7CEenXz4bpaN6\", \"uri\": \"spotify:track:5DfAKQmET7CEenXz4bpaN6\", \"track_href\": \"https://api.spotify.com/v1/tracks/5DfAKQmET7CEenXz4bpaN6\", \"analysis_url\": \"https://api.spotify.com/v1/audio-analysis/5DfAKQmET7CEenXz4bpaN6\", \"duration_ms\": 203973, \"time_signature\": 4}, {\"danceability\": 0.734, \"energy\": 0.64, \"key\": 9, \"loudness\": -7.638, \"mode\": 0, \"speechiness\": 0.182, \"acousticness\": 0.0895, \"instrumentalness\": 0, \"liveness\": 0.173, \"valence\": 0.351, \"tempo\": 90.011, \"type\": \"audio_features\", \"id\": \"2dXME00xUY1CRcMZsM3Y4q\", \"uri\": \"spotify:track:2dXME00xUY1CRcMZsM3Y4q\", \"track_href\": \"https://api.spotify.com/v1/tracks/2dXME00xUY1CRcMZsM3Y4q\", \"analysis_url\": \"https://api.spotify.com/v1/audio-analysis/2dXME00xUY1CRcMZsM3Y4q\", \"duration_ms\": 270653, \"time_signature\": 4}, {\"danceability\": 0.607, \"energy\": 0.76, \"key\": 0, \"loudness\": -5.229, \"mode\": 1, \"speechiness\": 0.0482, \"acousticness\": 0.0745, \"instrumentalness\": 0, \"liveness\": 0.0595, \"valence\": 0.805, \"tempo\": 88.059, \"type\": \"audio_features\", \"id\": \"1YI0uK36eupTmw9F8kHysr\", \"uri\": \"spotify:track:1YI0uK36eupTmw9F8kHysr\", \"track_href\": \"https://api.spotify.com/v1/tracks/1YI0uK36eupTmw9F8kHysr\", \"analysis_url\": \"https://api.spotify.com/v1/audio-analysis/1YI0uK36eupTmw9F8kHysr\", \"duration_ms\": 244867, \"time_signature\": 4}, {\"danceability\": 0.779, \"energy\": 0.572, \"key\": 6, \"loudness\": -9.985, \"mode\": 0, \"speechiness\": 0.378, \"acousticness\": 0.157, \"instrumentalness\": 0, \"liveness\": 0.246, \"valence\": 0.647, \"tempo\": 135.956, \"type\": \"audio_features\", \"id\": \"1zCi4cVFqe6ja16MeGZKRN\", \"uri\": \"spotify:track:1zCi4cVFqe6ja16MeGZKRN\", \"track_href\": \"https://api.spotify.com/v1/tracks/1zCi4cVFqe6ja16MeGZKRN\", \"analysis_url\": \"https://api.spotify.com/v1/audio-analysis/1zCi4cVFqe6ja16MeGZKRN\", \"duration_ms\": 300160, \"time_signature\": 4}, {\"danceability\": 0.716, \"energy\": 0.35, \"key\": 0, \"loudness\": -11.094, \"mode\": 1, \"speechiness\": 0.0537, \"acousticness\": 0.41, \"instrumentalness\": 0.00134, \"liveness\": 0.0927, \"valence\": 0.178, \"tempo\": 129.842, \"type\": \"audio_features\", \"id\": \"7DfFc7a6Rwfi3YQMRbDMau\", \"uri\": \"spotify:track:7DfFc7a6Rwfi3YQMRbDMau\", \"track_href\": \"https://api.spotify.com/v1/tracks/7DfFc7a6Rwfi3YQMRbDMau\", \"analysis_url\": \"https://api.spotify.com/v1/audio-analysis/7DfFc7a6Rwfi3YQMRbDMau\", \"duration_ms\": 200747, \"time_signature\": 4}, {\"danceability\": 0.48, \"energy\": 0.7, \"key\": 4, \"loudness\": -4.774, \"mode\": 1, \"speechiness\": 0.162, \"acousticness\": 0.057, \"instrumentalness\": 0, \"liveness\": 0.0607, \"valence\": 0.736, \"tempo\": 168.334, \"type\": \"audio_features\", \"id\": \"2mZrKpdrNUA4oZJWzTunqZ\", \"uri\": \"spotify:track:2mZrKpdrNUA4oZJWzTunqZ\", \"track_href\": \"https://api.spotify.com/v1/tracks/2mZrKpdrNUA4oZJWzTunqZ\", \"analysis_url\": \"https://api.spotify.com/v1/audio-analysis/2mZrKpdrNUA4oZJWzTunqZ\", \"duration_ms\": 214000, \"time_signature\": 4}, {\"danceability\": 0.0934, \"energy\": 0.037, \"key\": 1, \"loudness\": -26.091, \"mode\": 1, \"speechiness\": 0.0412, \"acousticness\": 0.915, \"instrumentalness\": 0.972, \"liveness\": 0.0827, \"valence\": 0.0364, \"tempo\": 164.68, \"type\": \"audio_features\", \"id\": \"3sWbPGkJwBEB7JFgFzMPci\", \"uri\": \"spotify:track:3sWbPGkJwBEB7JFgFzMPci\", \"track_href\": \"https://api.spotify.com/v1/tracks/3sWbPGkJwBEB7JFgFzMPci\", \"analysis_url\": \"https://api.spotify.com/v1/audio-analysis/3sWbPGkJwBEB7JFgFzMPci\", \"duration_ms\": 301907, \"time_signature\": 4}, {\"danceability\": 0.355, \"energy\": 0.00863, \"key\": 3, \"loudness\": -32.914, \"mode\": 1, \"speechiness\": 0.0443, \"acousticness\": 0.984, \"instrumentalness\": 0.883, \"liveness\": 0.0835, \"valence\": 0.0993, \"tempo\": 61.81, \"type\": \"audio_features\", \"id\": \"1VNvsvEsUpuUCbHpVop1vo\", \"uri\": \"spotify:track:1VNvsvEsUpuUCbHpVop1vo\", \"track_href\": \"https://api.spotify.com/v1/tracks/1VNvsvEsUpuUCbHpVop1vo\", \"analysis_url\": \"https://api.spotify.com/v1/audio-analysis/1VNvsvEsUpuUCbHpVop1vo\", \"duration_ms\": 276107, \"time_signature\": 3}, {\"danceability\": 0.877, \"energy\": 0.435, \"key\": 0, \"loudness\": -8.131, \"mode\": 1, \"speechiness\": 0.136, \"acousticness\": 0.0108, \"instrumentalness\": 1.88e-06, \"liveness\": 0.115, \"valence\": 0.589, \"tempo\": 98.008, \"type\": \"audio_features\", \"id\": \"3uYDO9dPLTVrgfwg7EYXSf\", \"uri\": \"spotify:track:3uYDO9dPLTVrgfwg7EYXSf\", \"track_href\": \"https://api.spotify.com/v1/tracks/3uYDO9dPLTVrgfwg7EYXSf\", \"analysis_url\": \"https://api.spotify.com/v1/audio-analysis/3uYDO9dPLTVrgfwg7EYXSf\", \"duration_ms\": 147905, \"time_signature\": 4}, {\"danceability\": 0.663, \"energy\": 0.694, \"key\": 10, \"loudness\": -8.627, \"mode\": 0, \"speechiness\": 0.172, \"acousticness\": 0.0249, \"instrumentalness\": 0, \"liveness\": 0.0698, \"valence\": 0.524, \"tempo\": 167.964, \"type\": \"audio_features\", \"id\": \"7yMiX7n9SBvadzox8T5jzT\", \"uri\": \"spotify:track:7yMiX7n9SBvadzox8T5jzT\", \"track_href\": \"https://api.spotify.com/v1/tracks/7yMiX7n9SBvadzox8T5jzT\", \"analysis_url\": \"https://api.spotify.com/v1/audio-analysis/7yMiX7n9SBvadzox8T5jzT\", \"duration_ms\": 340920, \"time_signature\": 4}, {\"danceability\": 0.617, \"energy\": 0.778, \"key\": 9, \"loudness\": -8.871, \"mode\": 0, \"speechiness\": 0.027, \"acousticness\": 0.459, \"instrumentalness\": 0.925, \"liveness\": 0.128, \"valence\": 0.152, \"tempo\": 100.363, \"type\": \"audio_features\", \"id\": \"0DAsxISzun85PbsqAfIzeC\", \"uri\": \"spotify:track:0DAsxISzun85PbsqAfIzeC\", \"track_href\": \"https://api.spotify.com/v1/tracks/0DAsxISzun85PbsqAfIzeC\", \"analysis_url\": \"https://api.spotify.com/v1/audio-analysis/0DAsxISzun85PbsqAfIzeC\", \"duration_ms\": 127920, \"time_signature\": 4}, {\"danceability\": 0.469, \"energy\": 0.0128, \"key\": 7, \"loudness\": -36.856, \"mode\": 1, \"speechiness\": 0.119, \"acousticness\": 0.994, \"instrumentalness\": 0.937, \"liveness\": 0.0941, \"valence\": 0.354, \"tempo\": 72.765, \"type\": \"audio_features\", \"id\": \"5NGtFXVpXSvwunEIGeviY3\", \"uri\": \"spotify:track:5NGtFXVpXSvwunEIGeviY3\", \"track_href\": \"https://api.spotify.com/v1/tracks/5NGtFXVpXSvwunEIGeviY3\", \"analysis_url\": \"https://api.spotify.com/v1/audio-analysis/5NGtFXVpXSvwunEIGeviY3\", \"duration_ms\": 205867, \"time_signature\": 3}, {\"danceability\": 0.594, \"energy\": 0.577, \"key\": 0, \"loudness\": -12.772, \"mode\": 1, \"speechiness\": 0.0534, \"acousticness\": 0.0215, \"instrumentalness\": 0.00792, \"liveness\": 0.883, \"valence\": 0.89, \"tempo\": 110.783, \"type\": \"audio_features\", \"id\": \"3ftnDaaL02tMeOZBunIwls\", \"uri\": \"spotify:track:3ftnDaaL02tMeOZBunIwls\", \"track_href\": \"https://api.spotify.com/v1/tracks/3ftnDaaL02tMeOZBunIwls\", \"analysis_url\": \"https://api.spotify.com/v1/audio-analysis/3ftnDaaL02tMeOZBunIwls\", \"duration_ms\": 156427, \"time_signature\": 4}, {\"danceability\": 0.736, \"energy\": 0.702, \"key\": 7, \"loudness\": -8.437, \"mode\": 0, \"speechiness\": 0.181, \"acousticness\": 0.055, \"instrumentalness\": 0.0394, \"liveness\": 0.124, \"valence\": 0.569, \"tempo\": 94.857, \"type\": \"audio_features\", \"id\": \"6yIjtVtnOBeC8SwdVHzAuF\", \"uri\": \"spotify:track:6yIjtVtnOBeC8SwdVHzAuF\", \"track_href\": \"https://api.spotify.com/v1/tracks/6yIjtVtnOBeC8SwdVHzAuF\", \"analysis_url\": \"https://api.spotify.com/v1/audio-analysis/6yIjtVtnOBeC8SwdVHzAuF\", \"duration_ms\": 203733, \"time_signature\": 4}]\n",
      "Old school\n",
      "  total tracks 20\n"
     ]
    },
    {
     "name": "stdout",
     "output_type": "stream",
     "text": [
      "[{\"danceability\": 0.6, \"energy\": 0.507, \"key\": 9, \"loudness\": -5.729, \"mode\": 1, \"speechiness\": 0.183, \"acousticness\": 0.908, \"instrumentalness\": 2.15e-05, \"liveness\": 0.124, \"valence\": 0.731, \"tempo\": 198.488, \"type\": \"audio_features\", \"id\": \"4n3jZ9O3ntnHrP1sjmWW8T\", \"uri\": \"spotify:track:4n3jZ9O3ntnHrP1sjmWW8T\", \"track_href\": \"https://api.spotify.com/v1/tracks/4n3jZ9O3ntnHrP1sjmWW8T\", \"analysis_url\": \"https://api.spotify.com/v1/audio-analysis/4n3jZ9O3ntnHrP1sjmWW8T\", \"duration_ms\": 171967, \"time_signature\": 4}, {\"danceability\": 0.587, \"energy\": 0.133, \"key\": 9, \"loudness\": -15.151, \"mode\": 0, \"speechiness\": 0.0565, \"acousticness\": 0.186, \"instrumentalness\": 2.26e-05, \"liveness\": 0.258, \"valence\": 0.068, \"tempo\": 102.938, \"type\": \"audio_features\", \"id\": \"36AlMHDBFwSsD3FQOy1R81\", \"uri\": \"spotify:track:36AlMHDBFwSsD3FQOy1R81\", \"track_href\": \"https://api.spotify.com/v1/tracks/36AlMHDBFwSsD3FQOy1R81\", \"analysis_url\": \"https://api.spotify.com/v1/audio-analysis/36AlMHDBFwSsD3FQOy1R81\", \"duration_ms\": 201733, \"time_signature\": 4}, {\"danceability\": 0.559, \"energy\": 0.298, \"key\": 0, \"loudness\": -19.71, \"mode\": 1, \"speechiness\": 0.0658, \"acousticness\": 0.548, \"instrumentalness\": 0.00579, \"liveness\": 0.116, \"valence\": 0.801, \"tempo\": 90.226, \"type\": \"audio_features\", \"id\": \"7vdRQIcmqkoZOGAk0pl1Ao\", \"uri\": \"spotify:track:7vdRQIcmqkoZOGAk0pl1Ao\", \"track_href\": \"https://api.spotify.com/v1/tracks/7vdRQIcmqkoZOGAk0pl1Ao\", \"analysis_url\": \"https://api.spotify.com/v1/audio-analysis/7vdRQIcmqkoZOGAk0pl1Ao\", \"duration_ms\": 352560, \"time_signature\": 4}, {\"danceability\": 0.769, \"energy\": 0.367, \"key\": 2, \"loudness\": -11.226, \"mode\": 1, \"speechiness\": 0.0312, \"acousticness\": 0.684, \"instrumentalness\": 1.62e-05, \"liveness\": 0.081, \"valence\": 0.535, \"tempo\": 103.621, \"type\": \"audio_features\", \"id\": \"3zBhihYUHBmGd2bcQIobrF\", \"uri\": \"spotify:track:3zBhihYUHBmGd2bcQIobrF\", \"track_href\": \"https://api.spotify.com/v1/tracks/3zBhihYUHBmGd2bcQIobrF\", \"analysis_url\": \"https://api.spotify.com/v1/audio-analysis/3zBhihYUHBmGd2bcQIobrF\", \"duration_ms\": 163756, \"time_signature\": 4}, {\"danceability\": 0.805, \"energy\": 0.558, \"key\": 0, \"loudness\": -5.226, \"mode\": 1, \"speechiness\": 0.041, \"acousticness\": 0.164, \"instrumentalness\": 2.2e-05, \"liveness\": 0.0546, \"valence\": 0.965, \"tempo\": 114.95, \"type\": \"audio_features\", \"id\": \"7s25THrKz86DM225dOYwnr\", \"uri\": \"spotify:track:7s25THrKz86DM225dOYwnr\", \"track_href\": \"https://api.spotify.com/v1/tracks/7s25THrKz86DM225dOYwnr\", \"analysis_url\": \"https://api.spotify.com/v1/audio-analysis/7s25THrKz86DM225dOYwnr\", \"duration_ms\": 147600, \"time_signature\": 4}, {\"danceability\": 0.543, \"energy\": 0.62, \"key\": 8, \"loudness\": -10.629, \"mode\": 1, \"speechiness\": 0.0648, \"acousticness\": 0.0379, \"instrumentalness\": 1.19e-06, \"liveness\": 0.0559, \"valence\": 0.607, \"tempo\": 167.141, \"type\": \"audio_features\", \"id\": \"0jHkgTtTaqg5LNCiYDQPUB\", \"uri\": \"spotify:track:0jHkgTtTaqg5LNCiYDQPUB\", \"track_href\": \"https://api.spotify.com/v1/tracks/0jHkgTtTaqg5LNCiYDQPUB\", \"analysis_url\": \"https://api.spotify.com/v1/audio-analysis/0jHkgTtTaqg5LNCiYDQPUB\", \"duration_ms\": 290960, \"time_signature\": 4}, {\"danceability\": 0.608, \"energy\": 0.471, \"key\": 0, \"loudness\": -8.664, \"mode\": 1, \"speechiness\": 0.0945, \"acousticness\": 0.446, \"instrumentalness\": 3.63e-06, \"liveness\": 0.369, \"valence\": 0.682, \"tempo\": 70.702, \"type\": \"audio_features\", \"id\": \"0rTkE0FmT4zT2xL6GXwosU\", \"uri\": \"spotify:track:0rTkE0FmT4zT2xL6GXwosU\", \"track_href\": \"https://api.spotify.com/v1/tracks/0rTkE0FmT4zT2xL6GXwosU\", \"analysis_url\": \"https://api.spotify.com/v1/audio-analysis/0rTkE0FmT4zT2xL6GXwosU\", \"duration_ms\": 165800, \"time_signature\": 3}, {\"danceability\": 0.803, \"energy\": 0.338, \"key\": 6, \"loudness\": -14.029, \"mode\": 1, \"speechiness\": 0.0349, \"acousticness\": 0.196, \"instrumentalness\": 0.038, \"liveness\": 0.097, \"valence\": 0.912, \"tempo\": 106.841, \"type\": \"audio_features\", \"id\": \"6PgVDY8GTkxF3GmhVGPzoB\", \"uri\": \"spotify:track:6PgVDY8GTkxF3GmhVGPzoB\", \"track_href\": \"https://api.spotify.com/v1/tracks/6PgVDY8GTkxF3GmhVGPzoB\", \"analysis_url\": \"https://api.spotify.com/v1/audio-analysis/6PgVDY8GTkxF3GmhVGPzoB\", \"duration_ms\": 155707, \"time_signature\": 4}, {\"danceability\": 0.79, \"energy\": 0.553, \"key\": 4, \"loudness\": -7.108, \"mode\": 1, \"speechiness\": 0.0386, \"acousticness\": 0.224, \"instrumentalness\": 0, \"liveness\": 0.0972, \"valence\": 0.873, \"tempo\": 111.544, \"type\": \"audio_features\", \"id\": \"4NRQwaks9r58tTDvr4iEyv\", \"uri\": \"spotify:track:4NRQwaks9r58tTDvr4iEyv\", \"track_href\": \"https://api.spotify.com/v1/tracks/4NRQwaks9r58tTDvr4iEyv\", \"analysis_url\": \"https://api.spotify.com/v1/audio-analysis/4NRQwaks9r58tTDvr4iEyv\", \"duration_ms\": 154947, \"time_signature\": 4}, {\"danceability\": 0.79, \"energy\": 0.41, \"key\": 0, \"loudness\": -13.241, \"mode\": 1, \"speechiness\": 0.0343, \"acousticness\": 0.263, \"instrumentalness\": 0.00314, \"liveness\": 0.174, \"valence\": 0.815, \"tempo\": 112.345, \"type\": \"audio_features\", \"id\": \"4eGHlplaq1ME8oetnTuFFf\", \"uri\": \"spotify:track:4eGHlplaq1ME8oetnTuFFf\", \"track_href\": \"https://api.spotify.com/v1/tracks/4eGHlplaq1ME8oetnTuFFf\", \"analysis_url\": \"https://api.spotify.com/v1/audio-analysis/4eGHlplaq1ME8oetnTuFFf\", \"duration_ms\": 159000, \"time_signature\": 4}, {\"danceability\": 0.763, \"energy\": 0.656, \"key\": 0, \"loudness\": -6.86, \"mode\": 1, \"speechiness\": 0.0417, \"acousticness\": 0.549, \"instrumentalness\": 0, \"liveness\": 0.125, \"valence\": 0.926, \"tempo\": 118.394, \"type\": \"audio_features\", \"id\": \"4CoGNqLap7UGU5Q3VdKug0\", \"uri\": \"spotify:track:4CoGNqLap7UGU5Q3VdKug0\", \"track_href\": \"https://api.spotify.com/v1/tracks/4CoGNqLap7UGU5Q3VdKug0\", \"analysis_url\": \"https://api.spotify.com/v1/audio-analysis/4CoGNqLap7UGU5Q3VdKug0\", \"duration_ms\": 156173, \"time_signature\": 4}, {\"danceability\": 0.521, \"energy\": 0.516, \"key\": 2, \"loudness\": -7.456, \"mode\": 0, \"speechiness\": 0.0369, \"acousticness\": 0.723, \"instrumentalness\": 0, \"liveness\": 0.257, \"valence\": 0.569, \"tempo\": 136.483, \"type\": \"audio_features\", \"id\": \"2EIaO5knwUA3F2qnf9LV3S\", \"uri\": \"spotify:track:2EIaO5knwUA3F2qnf9LV3S\", \"track_href\": \"https://api.spotify.com/v1/tracks/2EIaO5knwUA3F2qnf9LV3S\", \"analysis_url\": \"https://api.spotify.com/v1/audio-analysis/2EIaO5knwUA3F2qnf9LV3S\", \"duration_ms\": 172480, \"time_signature\": 4}, {\"danceability\": 0.589, \"energy\": 0.369, \"key\": 5, \"loudness\": -8.678, \"mode\": 0, \"speechiness\": 0.0321, \"acousticness\": 0.855, \"instrumentalness\": 0, \"liveness\": 0.352, \"valence\": 0.529, \"tempo\": 132.953, \"type\": \"audio_features\", \"id\": \"0shGCs5AkhwJIgUb0SSz2B\", \"uri\": \"spotify:track:0shGCs5AkhwJIgUb0SSz2B\", \"track_href\": \"https://api.spotify.com/v1/tracks/0shGCs5AkhwJIgUb0SSz2B\", \"analysis_url\": \"https://api.spotify.com/v1/audio-analysis/0shGCs5AkhwJIgUb0SSz2B\", \"duration_ms\": 201200, \"time_signature\": 4}, {\"danceability\": 0.54, \"energy\": 0.681, \"key\": 4, \"loudness\": -5.44, \"mode\": 1, \"speechiness\": 0.0508, \"acousticness\": 0.808, \"instrumentalness\": 0, \"liveness\": 0.162, \"valence\": 0.794, \"tempo\": 88.385, \"type\": \"audio_features\", \"id\": \"5yQ9iMZXGcr5rlO4hoLsP4\", \"uri\": \"spotify:track:5yQ9iMZXGcr5rlO4hoLsP4\", \"track_href\": \"https://api.spotify.com/v1/tracks/5yQ9iMZXGcr5rlO4hoLsP4\", \"analysis_url\": \"https://api.spotify.com/v1/audio-analysis/5yQ9iMZXGcr5rlO4hoLsP4\", \"duration_ms\": 307053, \"time_signature\": 4}, {\"danceability\": 0.746, \"energy\": 0.702, \"key\": 4, \"loudness\": -8.099, \"mode\": 1, \"speechiness\": 0.0766, \"acousticness\": 0.493, \"instrumentalness\": 0.0398, \"liveness\": 0.0964, \"valence\": 0.889, \"tempo\": 129.434, \"type\": \"audio_features\", \"id\": \"6v4gV9s0pnwKbmF1yk5knO\", \"uri\": \"spotify:track:6v4gV9s0pnwKbmF1yk5knO\", \"track_href\": \"https://api.spotify.com/v1/tracks/6v4gV9s0pnwKbmF1yk5knO\", \"analysis_url\": \"https://api.spotify.com/v1/audio-analysis/6v4gV9s0pnwKbmF1yk5knO\", \"duration_ms\": 125707, \"time_signature\": 4}, {\"danceability\": 0.576, \"energy\": 0.475, \"key\": 10, \"loudness\": -8.432, \"mode\": 0, \"speechiness\": 0.0385, \"acousticness\": 0.229, \"instrumentalness\": 2.48e-05, \"liveness\": 0.0865, \"valence\": 0.467, \"tempo\": 91.879, \"type\": \"audio_features\", \"id\": \"5k7VcffaUZqYLxI4DkIsST\", \"uri\": \"spotify:track:5k7VcffaUZqYLxI4DkIsST\", \"track_href\": \"https://api.spotify.com/v1/tracks/5k7VcffaUZqYLxI4DkIsST\", \"analysis_url\": \"https://api.spotify.com/v1/audio-analysis/5k7VcffaUZqYLxI4DkIsST\", \"duration_ms\": 279467, \"time_signature\": 4}, {\"danceability\": 0.883, \"energy\": 0.464, \"key\": 10, \"loudness\": -11.251, \"mode\": 1, \"speechiness\": 0.0591, \"acousticness\": 0.279, \"instrumentalness\": 1.51e-05, \"liveness\": 0.0744, \"valence\": 0.925, \"tempo\": 111.548, \"type\": \"audio_features\", \"id\": \"1aj4GXfmEYXfdVZohCpNKu\", \"uri\": \"spotify:track:1aj4GXfmEYXfdVZohCpNKu\", \"track_href\": \"https://api.spotify.com/v1/tracks/1aj4GXfmEYXfdVZohCpNKu\", \"analysis_url\": \"https://api.spotify.com/v1/audio-analysis/1aj4GXfmEYXfdVZohCpNKu\", \"duration_ms\": 172333, \"time_signature\": 4}, {\"danceability\": 0.632, \"energy\": 0.232, \"key\": 9, \"loudness\": -12.326, \"mode\": 1, \"speechiness\": 0.0318, \"acousticness\": 0.428, \"instrumentalness\": 4.95e-06, \"liveness\": 0.215, \"valence\": 0.673, \"tempo\": 119.136, \"type\": \"audio_features\", \"id\": \"7jmHyHMEqm9MJWiMAneF05\", \"uri\": \"spotify:track:7jmHyHMEqm9MJWiMAneF05\", \"track_href\": \"https://api.spotify.com/v1/tracks/7jmHyHMEqm9MJWiMAneF05\", \"analysis_url\": \"https://api.spotify.com/v1/audio-analysis/7jmHyHMEqm9MJWiMAneF05\", \"duration_ms\": 175493, \"time_signature\": 4}, {\"danceability\": 0.663, \"energy\": 0.78, \"key\": 3, \"loudness\": -5.152, \"mode\": 0, \"speechiness\": 0.0463, \"acousticness\": 0.552, \"instrumentalness\": 0.018, \"liveness\": 0.298, \"valence\": 0.683, \"tempo\": 152.979, \"type\": \"audio_features\", \"id\": \"6hUQuIqBQqp9EXC9Ddonf0\", \"uri\": \"spotify:track:6hUQuIqBQqp9EXC9Ddonf0\", \"track_href\": \"https://api.spotify.com/v1/tracks/6hUQuIqBQqp9EXC9Ddonf0\", \"analysis_url\": \"https://api.spotify.com/v1/audio-analysis/6hUQuIqBQqp9EXC9Ddonf0\", \"duration_ms\": 192587, \"time_signature\": 4}, {\"danceability\": 0.643, \"energy\": 0.628, \"key\": 10, \"loudness\": -12.075, \"mode\": 0, \"speechiness\": 0.0748, \"acousticness\": 0.0443, \"instrumentalness\": 0.00613, \"liveness\": 0.0359, \"valence\": 0.894, \"tempo\": 100.392, \"type\": \"audio_features\", \"id\": \"2Y8i6ntDzXIhCO4UJPl5Qv\", \"uri\": \"spotify:track:2Y8i6ntDzXIhCO4UJPl5Qv\", \"track_href\": \"https://api.spotify.com/v1/tracks/2Y8i6ntDzXIhCO4UJPl5Qv\", \"analysis_url\": \"https://api.spotify.com/v1/audio-analysis/2Y8i6ntDzXIhCO4UJPl5Qv\", \"duration_ms\": 245493, \"time_signature\": 4}]\n",
      "My Shazam Tracks\n",
      "  total tracks 13\n"
     ]
    },
    {
     "name": "stdout",
     "output_type": "stream",
     "text": [
      "[{\"danceability\": 0.335, \"energy\": 0.155, \"key\": 0, \"loudness\": -19.612, \"mode\": 0, \"speechiness\": 0.0386, \"acousticness\": 0.987, \"instrumentalness\": 0.883, \"liveness\": 0.143, \"valence\": 0.257, \"tempo\": 194.706, \"type\": \"audio_features\", \"id\": \"4rrLFMxzVVwAJjmvHLPL8y\", \"uri\": \"spotify:track:4rrLFMxzVVwAJjmvHLPL8y\", \"track_href\": \"https://api.spotify.com/v1/tracks/4rrLFMxzVVwAJjmvHLPL8y\", \"analysis_url\": \"https://api.spotify.com/v1/audio-analysis/4rrLFMxzVVwAJjmvHLPL8y\", \"duration_ms\": 321027, \"time_signature\": 3}, {\"danceability\": 0.766, \"energy\": 0.896, \"key\": 10, \"loudness\": -4.767, \"mode\": 0, \"speechiness\": 0.082, \"acousticness\": 0.0198, \"instrumentalness\": 2.22e-06, \"liveness\": 0.095, \"valence\": 0.812, \"tempo\": 87.976, \"type\": \"audio_features\", \"id\": \"1x4L0kuqFaIdOYENE3I7xK\", \"uri\": \"spotify:track:1x4L0kuqFaIdOYENE3I7xK\", \"track_href\": \"https://api.spotify.com/v1/tracks/1x4L0kuqFaIdOYENE3I7xK\", \"analysis_url\": \"https://api.spotify.com/v1/audio-analysis/1x4L0kuqFaIdOYENE3I7xK\", \"duration_ms\": 194613, \"time_signature\": 4}, {\"danceability\": 0.601, \"energy\": 0.888, \"key\": 9, \"loudness\": -4.018, \"mode\": 1, \"speechiness\": 0.0396, \"acousticness\": 0.000623, \"instrumentalness\": 0, \"liveness\": 0.0475, \"valence\": 0.4, \"tempo\": 100.033, \"type\": \"audio_features\", \"id\": \"1oagRT7LfpVlNJN6FSZDGp\", \"uri\": \"spotify:track:1oagRT7LfpVlNJN6FSZDGp\", \"track_href\": \"https://api.spotify.com/v1/tracks/1oagRT7LfpVlNJN6FSZDGp\", \"analysis_url\": \"https://api.spotify.com/v1/audio-analysis/1oagRT7LfpVlNJN6FSZDGp\", \"duration_ms\": 212040, \"time_signature\": 4}, {\"danceability\": 0.72, \"energy\": 0.643, \"key\": 9, \"loudness\": -7.691, \"mode\": 1, \"speechiness\": 0.0369, \"acousticness\": 0.135, \"instrumentalness\": 0.812, \"liveness\": 0.112, \"valence\": 0.325, \"tempo\": 122.012, \"type\": \"audio_features\", \"id\": \"7ac8sivblLQjsQipO5FZ63\", \"uri\": \"spotify:track:7ac8sivblLQjsQipO5FZ63\", \"track_href\": \"https://api.spotify.com/v1/tracks/7ac8sivblLQjsQipO5FZ63\", \"analysis_url\": \"https://api.spotify.com/v1/audio-analysis/7ac8sivblLQjsQipO5FZ63\", \"duration_ms\": 188852, \"time_signature\": 4}, {\"danceability\": 0.415, \"energy\": 0.0716, \"key\": 6, \"loudness\": -17.292, \"mode\": 0, \"speechiness\": 0.0333, \"acousticness\": 0.981, \"instrumentalness\": 0.876, \"liveness\": 0.0976, \"valence\": 0.0716, \"tempo\": 101.332, \"type\": \"audio_features\", \"id\": \"3V3dIRd7MsnMA0yBRvp7m2\", \"uri\": \"spotify:track:3V3dIRd7MsnMA0yBRvp7m2\", \"track_href\": \"https://api.spotify.com/v1/tracks/3V3dIRd7MsnMA0yBRvp7m2\", \"analysis_url\": \"https://api.spotify.com/v1/audio-analysis/3V3dIRd7MsnMA0yBRvp7m2\", \"duration_ms\": 387736, \"time_signature\": 4}, {\"danceability\": 0.767, \"energy\": 0.258, \"key\": 9, \"loudness\": -18.331, \"mode\": 0, \"speechiness\": 0.0471, \"acousticness\": 0.919, \"instrumentalness\": 0.83, \"liveness\": 0.107, \"valence\": 0.643, \"tempo\": 120.012, \"type\": \"audio_features\", \"id\": \"6KjKbWznK5HfNiC1vpeMtG\", \"uri\": \"spotify:track:6KjKbWznK5HfNiC1vpeMtG\", \"track_href\": \"https://api.spotify.com/v1/tracks/6KjKbWznK5HfNiC1vpeMtG\", \"analysis_url\": \"https://api.spotify.com/v1/audio-analysis/6KjKbWznK5HfNiC1vpeMtG\", \"duration_ms\": 278307, \"time_signature\": 4}, {\"danceability\": 0.474, \"energy\": 0.69, \"key\": 0, \"loudness\": -7.026, \"mode\": 1, \"speechiness\": 0.0579, \"acousticness\": 0.497, \"instrumentalness\": 0.303, \"liveness\": 0.109, \"valence\": 0.34, \"tempo\": 80.491, \"type\": \"audio_features\", \"id\": \"4zrWy4aPpcTwvW9PEzg8GY\", \"uri\": \"spotify:track:4zrWy4aPpcTwvW9PEzg8GY\", \"track_href\": \"https://api.spotify.com/v1/tracks/4zrWy4aPpcTwvW9PEzg8GY\", \"analysis_url\": \"https://api.spotify.com/v1/audio-analysis/4zrWy4aPpcTwvW9PEzg8GY\", \"duration_ms\": 619625, \"time_signature\": 4}, {\"danceability\": 0.743, \"energy\": 0.466, \"key\": 5, \"loudness\": -10.176, \"mode\": 1, \"speechiness\": 0.0465, \"acousticness\": 0.103, \"instrumentalness\": 0.205, \"liveness\": 0.0616, \"valence\": 0.938, \"tempo\": 167.039, \"type\": \"audio_features\", \"id\": \"5YZAQzEgBHSZjn7S5xQNq4\", \"uri\": \"spotify:track:5YZAQzEgBHSZjn7S5xQNq4\", \"track_href\": \"https://api.spotify.com/v1/tracks/5YZAQzEgBHSZjn7S5xQNq4\", \"analysis_url\": \"https://api.spotify.com/v1/audio-analysis/5YZAQzEgBHSZjn7S5xQNq4\", \"duration_ms\": 186533, \"time_signature\": 4}, {\"danceability\": 0.447, \"energy\": 0.788, \"key\": 2, \"loudness\": -4.994, \"mode\": 0, \"speechiness\": 0.0464, \"acousticness\": 0.00257, \"instrumentalness\": 1.68e-05, \"liveness\": 0.0744, \"valence\": 0.505, \"tempo\": 80.04, \"type\": \"audio_features\", \"id\": \"45HAjqRWiNv6mMPw4NvZrU\", \"uri\": \"spotify:track:45HAjqRWiNv6mMPw4NvZrU\", \"track_href\": \"https://api.spotify.com/v1/tracks/45HAjqRWiNv6mMPw4NvZrU\", \"analysis_url\": \"https://api.spotify.com/v1/audio-analysis/45HAjqRWiNv6mMPw4NvZrU\", \"duration_ms\": 193714, \"time_signature\": 4}, {\"danceability\": 0.546, \"energy\": 0.864, \"key\": 7, \"loudness\": -7.632, \"mode\": 1, \"speechiness\": 0.0393, \"acousticness\": 0.0908, \"instrumentalness\": 0.00814, \"liveness\": 0.277, \"valence\": 0.863, \"tempo\": 145.652, \"type\": \"audio_features\", \"id\": \"1L8kJLp3ExF5ZGHwEZEqHe\", \"uri\": \"spotify:track:1L8kJLp3ExF5ZGHwEZEqHe\", \"track_href\": \"https://api.spotify.com/v1/tracks/1L8kJLp3ExF5ZGHwEZEqHe\", \"analysis_url\": \"https://api.spotify.com/v1/audio-analysis/1L8kJLp3ExF5ZGHwEZEqHe\", \"duration_ms\": 137240, \"time_signature\": 4}, {\"danceability\": 0.801, \"energy\": 0.795, \"key\": 1, \"loudness\": -5.115, \"mode\": 0, \"speechiness\": 0.0504, \"acousticness\": 0.0417, \"instrumentalness\": 0.000113, \"liveness\": 0.0717, \"valence\": 0.754, \"tempo\": 79.028, \"type\": \"audio_features\", \"id\": \"6QgjcU0zLnzq5OrUoSZ3OK\", \"uri\": \"spotify:track:6QgjcU0zLnzq5OrUoSZ3OK\", \"track_href\": \"https://api.spotify.com/v1/tracks/6QgjcU0zLnzq5OrUoSZ3OK\", \"analysis_url\": \"https://api.spotify.com/v1/audio-analysis/6QgjcU0zLnzq5OrUoSZ3OK\", \"duration_ms\": 163253, \"time_signature\": 4}, {\"danceability\": 0.585, \"energy\": 0.46, \"key\": 11, \"loudness\": -9.175, \"mode\": 0, \"speechiness\": 0.0255, \"acousticness\": 0.561, \"instrumentalness\": 0.942, \"liveness\": 0.0902, \"valence\": 0.103, \"tempo\": 96.848, \"type\": \"audio_features\", \"id\": \"2Q5Ora4IZX9m4pKLTKnZ3H\", \"uri\": \"spotify:track:2Q5Ora4IZX9m4pKLTKnZ3H\", \"track_href\": \"https://api.spotify.com/v1/tracks/2Q5Ora4IZX9m4pKLTKnZ3H\", \"analysis_url\": \"https://api.spotify.com/v1/audio-analysis/2Q5Ora4IZX9m4pKLTKnZ3H\", \"duration_ms\": 174613, \"time_signature\": 4}, {\"danceability\": 0.774, \"energy\": 0.244, \"key\": 9, \"loudness\": -9.748, \"mode\": 0, \"speechiness\": 0.0299, \"acousticness\": 0.72, \"instrumentalness\": 0.915, \"liveness\": 0.379, \"valence\": 0.421, \"tempo\": 103.464, \"type\": \"audio_features\", \"id\": \"2MddqD0MryxIAKS03raHsz\", \"uri\": \"spotify:track:2MddqD0MryxIAKS03raHsz\", \"track_href\": \"https://api.spotify.com/v1/tracks/2MddqD0MryxIAKS03raHsz\", \"analysis_url\": \"https://api.spotify.com/v1/audio-analysis/2MddqD0MryxIAKS03raHsz\", \"duration_ms\": 210467, \"time_signature\": 4}]\n",
      "Gains on pumps\n",
      "  total tracks 119\n",
      "[{\"danceability\": 0.572, \"energy\": 0.853, \"key\": 1, \"loudness\": -3.203, \"mode\": 1, \"speechiness\": 0.217, \"acousticness\": 0.0757, \"instrumentalness\": 0, \"liveness\": 0.0798, \"valence\": 0.102, \"tempo\": 171.297, \"type\": \"audio_features\", \"id\": \"4xkOaSrkexMciUUogZKVTS\", \"uri\": \"spotify:track:4xkOaSrkexMciUUogZKVTS\", \"track_href\": \"https://api.spotify.com/v1/tracks/4xkOaSrkexMciUUogZKVTS\", \"analysis_url\": \"https://api.spotify.com/v1/audio-analysis/4xkOaSrkexMciUUogZKVTS\", \"duration_ms\": 297893, \"time_signature\": 4}, {\"danceability\": 0.625, \"energy\": 0.726, \"key\": 10, \"loudness\": -7.731, \"mode\": 0, \"speechiness\": 0.155, \"acousticness\": 0.00728, \"instrumentalness\": 0, \"liveness\": 0.318, \"valence\": 0.483, \"tempo\": 103.98, \"type\": \"audio_features\", \"id\": \"6C7RJEIUDqKkJRZVWdkfkH\", \"uri\": \"spotify:track:6C7RJEIUDqKkJRZVWdkfkH\", \"track_href\": \"https://api.spotify.com/v1/tracks/6C7RJEIUDqKkJRZVWdkfkH\", \"analysis_url\": \"https://api.spotify.com/v1/audio-analysis/6C7RJEIUDqKkJRZVWdkfkH\", \"duration_ms\": 311867, \"time_signature\": 4}, {\"danceability\": 0.544, \"energy\": 0.92, \"key\": 5, \"loudness\": -1.474, \"mode\": 0, \"speechiness\": 0.277, \"acousticness\": 0.244, \"instrumentalness\": 0, \"liveness\": 0.19, \"valence\": 0.519, \"tempo\": 105.307, \"type\": \"audio_features\", \"id\": \"6HSqyfGnsHYw9MmIpa9zlZ\", \"uri\": \"spotify:track:6HSqyfGnsHYw9MmIpa9zlZ\", \"track_href\": \"https://api.spotify.com/v1/tracks/6HSqyfGnsHYw9MmIpa9zlZ\", \"analysis_url\": \"https://api.spotify.com/v1/audio-analysis/6HSqyfGnsHYw9MmIpa9zlZ\", \"duration_ms\": 357347, \"time_signature\": 5}, {\"danceability\": 0.786, \"energy\": 0.868, \"key\": 1, \"loudness\": -5.503, \"mode\": 1, \"speechiness\": 0.3, \"acousticness\": 0.135, \"instrumentalness\": 0, \"liveness\": 0.218, \"valence\": 0.771, \"tempo\": 140.024, \"type\": \"audio_features\", \"id\": \"2Zb7wnGUnNPCas2E0wWSQ5\", \"uri\": \"spotify:track:2Zb7wnGUnNPCas2E0wWSQ5\", \"track_href\": \"https://api.spotify.com/v1/tracks/2Zb7wnGUnNPCas2E0wWSQ5\", \"analysis_url\": \"https://api.spotify.com/v1/audio-analysis/2Zb7wnGUnNPCas2E0wWSQ5\", \"duration_ms\": 219333, \"time_signature\": 4}, {\"danceability\": 0.635, \"energy\": 0.472, \"key\": 8, \"loudness\": -3.869, \"mode\": 0, \"speechiness\": 0.511, \"acousticness\": 0.00898, \"instrumentalness\": 0, \"liveness\": 0.117, \"valence\": 0.373, \"tempo\": 174.008, \"type\": \"audio_features\", \"id\": \"5lFDtgWsjRJu8fPOAyJIAK\", \"uri\": \"spotify:track:5lFDtgWsjRJu8fPOAyJIAK\", \"track_href\": \"https://api.spotify.com/v1/tracks/5lFDtgWsjRJu8fPOAyJIAK\", \"analysis_url\": \"https://api.spotify.com/v1/audio-analysis/5lFDtgWsjRJu8fPOAyJIAK\", \"duration_ms\": 170638, \"time_signature\": 4}, {\"danceability\": 0.685, \"energy\": 0.803, \"key\": 2, \"loudness\": -4.251, \"mode\": 1, \"speechiness\": 0.156, \"acousticness\": 0.0601, \"instrumentalness\": 0, \"liveness\": 0.546, \"valence\": 0.799, \"tempo\": 107.005, \"type\": \"audio_features\", \"id\": \"7dyluIqv7QYVTXXZiMWPHW\", \"uri\": \"spotify:track:7dyluIqv7QYVTXXZiMWPHW\", \"track_href\": \"https://api.spotify.com/v1/tracks/7dyluIqv7QYVTXXZiMWPHW\", \"analysis_url\": \"https://api.spotify.com/v1/audio-analysis/7dyluIqv7QYVTXXZiMWPHW\", \"duration_ms\": 205280, \"time_signature\": 4}, {\"danceability\": 0.702, \"energy\": 0.774, \"key\": 2, \"loudness\": -4.682, \"mode\": 1, \"speechiness\": 0.208, \"acousticness\": 0.00925, \"instrumentalness\": 0, \"liveness\": 0.379, \"valence\": 0.624, \"tempo\": 117.993, \"type\": \"audio_features\", \"id\": \"0fDf7lTJ6A6uzGWUEJHcCq\", \"uri\": \"spotify:track:0fDf7lTJ6A6uzGWUEJHcCq\", \"track_href\": \"https://api.spotify.com/v1/tracks/0fDf7lTJ6A6uzGWUEJHcCq\", \"analysis_url\": \"https://api.spotify.com/v1/audio-analysis/0fDf7lTJ6A6uzGWUEJHcCq\", \"duration_ms\": 322800, \"time_signature\": 4}, {\"danceability\": 0.72, \"energy\": 0.748, \"key\": 10, \"loudness\": -5.522, \"mode\": 0, \"speechiness\": 0.393, \"acousticness\": 0.0235, \"instrumentalness\": 0, \"liveness\": 0.369, \"valence\": 0.246, \"tempo\": 145.22, \"type\": \"audio_features\", \"id\": \"275a9yzwGB6ncAW4SxY7q3\", \"uri\": \"spotify:track:275a9yzwGB6ncAW4SxY7q3\", \"track_href\": \"https://api.spotify.com/v1/tracks/275a9yzwGB6ncAW4SxY7q3\", \"analysis_url\": \"https://api.spotify.com/v1/audio-analysis/275a9yzwGB6ncAW4SxY7q3\", \"duration_ms\": 247867, \"time_signature\": 4}, {\"danceability\": 0.564, \"energy\": 0.912, \"key\": 5, \"loudness\": -4.718, \"mode\": 0, \"speechiness\": 0.143, \"acousticness\": 0.131, \"instrumentalness\": 8.05e-06, \"liveness\": 0.369, \"valence\": 0.586, \"tempo\": 92.054, \"type\": \"audio_features\", \"id\": \"1zPkAyWzIAePfmbhHetqK7\", \"uri\": \"spotify:track:1zPkAyWzIAePfmbhHetqK7\", \"track_href\": \"https://api.spotify.com/v1/tracks/1zPkAyWzIAePfmbhHetqK7\", \"analysis_url\": \"https://api.spotify.com/v1/audio-analysis/1zPkAyWzIAePfmbhHetqK7\", \"duration_ms\": 171573, \"time_signature\": 4}, {\"danceability\": 0.365, \"energy\": 0.751, \"key\": 2, \"loudness\": -5.429, \"mode\": 1, \"speechiness\": 0.304, \"acousticness\": 0.000707, \"instrumentalness\": 0, \"liveness\": 0.318, \"valence\": 0.604, \"tempo\": 79.119, \"type\": \"audio_features\", \"id\": \"0z5ZPs57J2KERwM1tBM2GF\", \"uri\": \"spotify:track:0z5ZPs57J2KERwM1tBM2GF\", \"track_href\": \"https://api.spotify.com/v1/tracks/0z5ZPs57J2KERwM1tBM2GF\", \"analysis_url\": \"https://api.spotify.com/v1/audio-analysis/0z5ZPs57J2KERwM1tBM2GF\", \"duration_ms\": 248587, \"time_signature\": 4}, {\"danceability\": 0.508, \"energy\": 0.763, \"key\": 1, \"loudness\": -5.674, \"mode\": 1, \"speechiness\": 0.303, \"acousticness\": 0.0627, \"instrumentalness\": 0, \"liveness\": 0.347, \"valence\": 0.275, \"tempo\": 161.59, \"type\": \"audio_features\", \"id\": \"4zGvb8hxGLB2jEPRFiRRqw\", \"uri\": \"spotify:track:4zGvb8hxGLB2jEPRFiRRqw\", \"track_href\": \"https://api.spotify.com/v1/tracks/4zGvb8hxGLB2jEPRFiRRqw\", \"analysis_url\": \"https://api.spotify.com/v1/audio-analysis/4zGvb8hxGLB2jEPRFiRRqw\", \"duration_ms\": 192947, \"time_signature\": 4}, {\"danceability\": 0.546, \"energy\": 0.651, \"key\": 1, \"loudness\": -7.601, \"mode\": 1, \"speechiness\": 0.3, \"acousticness\": 0.000739, \"instrumentalness\": 0, \"liveness\": 0.235, \"valence\": 0.646, \"tempo\": 77.878, \"type\": \"audio_features\", \"id\": \"6fAyRZ0GHuuvSOEIOwi58N\", \"uri\": \"spotify:track:6fAyRZ0GHuuvSOEIOwi58N\", \"track_href\": \"https://api.spotify.com/v1/tracks/6fAyRZ0GHuuvSOEIOwi58N\", \"analysis_url\": \"https://api.spotify.com/v1/audio-analysis/6fAyRZ0GHuuvSOEIOwi58N\", \"duration_ms\": 212653, \"time_signature\": 4}, {\"danceability\": 0.643, \"energy\": 0.717, \"key\": 8, \"loudness\": -4.876, \"mode\": 0, \"speechiness\": 0.506, \"acousticness\": 0.184, \"instrumentalness\": 0, \"liveness\": 0.152, \"valence\": 0.46, \"tempo\": 90.893, \"type\": \"audio_features\", \"id\": \"2cYZpcIV39X48RnOFM7w2V\", \"uri\": \"spotify:track:2cYZpcIV39X48RnOFM7w2V\", \"track_href\": \"https://api.spotify.com/v1/tracks/2cYZpcIV39X48RnOFM7w2V\", \"analysis_url\": \"https://api.spotify.com/v1/audio-analysis/2cYZpcIV39X48RnOFM7w2V\", \"duration_ms\": 223507, \"time_signature\": 4}, {\"danceability\": 0.644, \"energy\": 0.749, \"key\": 1, \"loudness\": -5.666, \"mode\": 1, \"speechiness\": 0.349, \"acousticness\": 0.165, \"instrumentalness\": 0, \"liveness\": 0.269, \"valence\": 0.585, \"tempo\": 160.826, \"type\": \"audio_features\", \"id\": \"4troLXzodl5lRV1PjNVmUs\", \"uri\": \"spotify:track:4troLXzodl5lRV1PjNVmUs\", \"track_href\": \"https://api.spotify.com/v1/tracks/4troLXzodl5lRV1PjNVmUs\", \"analysis_url\": \"https://api.spotify.com/v1/audio-analysis/4troLXzodl5lRV1PjNVmUs\", \"duration_ms\": 240480, \"time_signature\": 4}, {\"danceability\": 0.646, \"energy\": 0.854, \"key\": 7, \"loudness\": -2.532, \"mode\": 1, \"speechiness\": 0.304, \"acousticness\": 0.258, \"instrumentalness\": 0, \"liveness\": 0.306, \"valence\": 0.609, \"tempo\": 96.949, \"type\": \"audio_features\", \"id\": \"290DH5BclWLihECLilse0o\", \"uri\": \"spotify:track:290DH5BclWLihECLilse0o\", \"track_href\": \"https://api.spotify.com/v1/tracks/290DH5BclWLihECLilse0o\", \"analysis_url\": \"https://api.spotify.com/v1/audio-analysis/290DH5BclWLihECLilse0o\", \"duration_ms\": 214200, \"time_signature\": 4}, {\"danceability\": 0.696, \"energy\": 0.521, \"key\": 10, \"loudness\": -8.465, \"mode\": 0, \"speechiness\": 0.332, \"acousticness\": 0.302, \"instrumentalness\": 0, \"liveness\": 0.0565, \"valence\": 0.458, \"tempo\": 100.0, \"type\": \"audio_features\", \"id\": \"62vpWI1CHwFy7tMIcSStl8\", \"uri\": \"spotify:track:62vpWI1CHwFy7tMIcSStl8\", \"track_href\": \"https://api.spotify.com/v1/tracks/62vpWI1CHwFy7tMIcSStl8\", \"analysis_url\": \"https://api.spotify.com/v1/audio-analysis/62vpWI1CHwFy7tMIcSStl8\", \"duration_ms\": 292987, \"time_signature\": 4}, {\"danceability\": 0.698, \"energy\": 0.732, \"key\": 2, \"loudness\": -4.522, \"mode\": 1, \"speechiness\": 0.266, \"acousticness\": 0.00704, \"instrumentalness\": 0.000647, \"liveness\": 0.359, \"valence\": 0.0689, \"tempo\": 171.431, \"type\": \"audio_features\", \"id\": \"5Z01UMMf7V1o0MzF86s6WJ\", \"uri\": \"spotify:track:5Z01UMMf7V1o0MzF86s6WJ\", \"track_href\": \"https://api.spotify.com/v1/tracks/5Z01UMMf7V1o0MzF86s6WJ\", \"analysis_url\": \"https://api.spotify.com/v1/audio-analysis/5Z01UMMf7V1o0MzF86s6WJ\", \"duration_ms\": 326467, \"time_signature\": 4}, {\"danceability\": 0.822, \"energy\": 0.734, \"key\": 1, \"loudness\": -5.48, \"mode\": 1, \"speechiness\": 0.0738, \"acousticness\": 0.0372, \"instrumentalness\": 0, \"liveness\": 0.325, \"valence\": 0.425, \"tempo\": 97.998, \"type\": \"audio_features\", \"id\": \"7FYH5AW3bVfZHJIQpq3UOA\", \"uri\": \"spotify:track:7FYH5AW3bVfZHJIQpq3UOA\", \"track_href\": \"https://api.spotify.com/v1/tracks/7FYH5AW3bVfZHJIQpq3UOA\", \"analysis_url\": \"https://api.spotify.com/v1/audio-analysis/7FYH5AW3bVfZHJIQpq3UOA\", \"duration_ms\": 284387, \"time_signature\": 4}, {\"danceability\": 0.501, \"energy\": 0.851, \"key\": 10, \"loudness\": -5.111, \"mode\": 0, \"speechiness\": 0.292, \"acousticness\": 0.0295, \"instrumentalness\": 0, \"liveness\": 0.0775, \"valence\": 0.627, \"tempo\": 95.058, \"type\": \"audio_features\", \"id\": \"6uP0XLqjRqFx8HAfesdcAg\", \"uri\": \"spotify:track:6uP0XLqjRqFx8HAfesdcAg\", \"track_href\": \"https://api.spotify.com/v1/tracks/6uP0XLqjRqFx8HAfesdcAg\", \"analysis_url\": \"https://api.spotify.com/v1/audio-analysis/6uP0XLqjRqFx8HAfesdcAg\", \"duration_ms\": 219253, \"time_signature\": 4}, {\"danceability\": 0.688, \"energy\": 0.835, \"key\": 8, \"loudness\": -4.162, \"mode\": 1, \"speechiness\": 0.0911, \"acousticness\": 0.0583, \"instrumentalness\": 2.87e-06, \"liveness\": 0.0795, \"valence\": 0.88, \"tempo\": 84.858, \"type\": \"audio_features\", \"id\": \"6ndmKwWqMozN2tcZqzCX4K\", \"uri\": \"spotify:track:6ndmKwWqMozN2tcZqzCX4K\", \"track_href\": \"https://api.spotify.com/v1/tracks/6ndmKwWqMozN2tcZqzCX4K\", \"analysis_url\": \"https://api.spotify.com/v1/audio-analysis/6ndmKwWqMozN2tcZqzCX4K\", \"duration_ms\": 230493, \"time_signature\": 4}]\n"
     ]
    }
   ],
   "source": [
    "playlists = sp.user_playlists(username)\n",
    "\n",
    "for playlist in playlists['items']: \n",
    "    if playlist['owner']['id'] == username:\n",
    "        print(playlist['name'])\n",
    "        print('  total tracks', playlist['tracks']['total'])\n",
    "        \n",
    "        # get playlist data\n",
    "        results = sp.user_playlist(username, playlist['id'], fields=\"fields=tracks\")\n",
    "        tracks_list = results['tracks'][\"items\"]\n",
    "        tracks_list_short = tracks_list[0:20]\n",
    "        \n",
    "        # prep lists of tracks\n",
    "        tracks = []\n",
    "        for track_obj in tracks_list_short:\n",
    "            tracks.append(track_obj[\"track\"]['id'])\n",
    "        \n",
    "        # get features batch of tracks\n",
    "        features = sp.audio_features(tracks)\n",
    "        print(json.dumps(features))\n"
   ]
  },
  {
   "cell_type": "code",
   "execution_count": 5,
   "metadata": {
    "colab": {},
    "colab_type": "code",
    "collapsed": true,
    "id": "v4ynAQxrY6p0"
   },
   "outputs": [],
   "source": [
    "# TODO\n",
    "# 1. get tracks for users playlist\n",
    "# 2. splits into track_list into batches of 25\n",
    "\n",
    "\n",
    "# just incase we really needed these...\n",
    "# util.prompt_for_user_token(username,scope,client_id='c2cf260ff28e4694bcb1eb0a29191b74',client_secret='83713ae562c04d7e96220f60749a6989',redirect_uri='http://localhost:8080')\n",
    "# TOKEN = util.prompt_for_user_token(username, scope)\n"
   ]
  },
  {
   "cell_type": "code",
   "execution_count": 6,
   "metadata": {},
   "outputs": [
    {
     "data": {
      "text/plain": [
       "dict_keys(['collaborative', 'external_urls', 'href', 'id', 'images', 'name', 'owner', 'primary_color', 'public', 'snapshot_id', 'tracks', 'type', 'uri'])"
      ]
     },
     "execution_count": 6,
     "metadata": {},
     "output_type": "execute_result"
    }
   ],
   "source": [
    "playlist.keys()"
   ]
  },
  {
   "cell_type": "code",
   "execution_count": 7,
   "metadata": {},
   "outputs": [
    {
     "name": "stdout",
     "output_type": "stream",
     "text": [
      "3\n"
     ]
    }
   ],
   "source": [
    "results = sp.search(\"Mylo Xyloto\",limit=3,type=\"album\")['albums']['items']\n",
    "print(len(results))"
   ]
  },
  {
   "cell_type": "code",
   "execution_count": 8,
   "metadata": {},
   "outputs": [],
   "source": [
    "mx_tracks = sp.album_tracks(album_id=results[0]['id'])['items']"
   ]
  },
  {
   "cell_type": "code",
   "execution_count": 9,
   "metadata": {},
   "outputs": [
    {
     "data": {
      "text/plain": [
       "'spotify:track:3vCzHYgSjMuGjFMfJSCx4c'"
      ]
     },
     "execution_count": 9,
     "metadata": {},
     "output_type": "execute_result"
    }
   ],
   "source": [
    "mx_tracks[0]['uri']"
   ]
  },
  {
   "cell_type": "code",
   "execution_count": 10,
   "metadata": {},
   "outputs": [
    {
     "data": {
      "text/plain": [
       "'spotify:track:6WF4hzdGXvXd1joERSXJjm'"
      ]
     },
     "execution_count": 10,
     "metadata": {},
     "output_type": "execute_result"
    }
   ],
   "source": [
    "mx_tracks[1]['uri']"
   ]
  },
  {
   "cell_type": "code",
   "execution_count": 11,
   "metadata": {},
   "outputs": [
    {
     "name": "stdout",
     "output_type": "stream",
     "text": [
      "3\n"
     ]
    }
   ],
   "source": [
    "results = sp.search(\"Golden Slumbers\",limit=3,type=\"track\")['tracks']['items']\n",
    "print(len(results))"
   ]
  },
  {
   "cell_type": "code",
   "execution_count": 12,
   "metadata": {},
   "outputs": [
    {
     "data": {
      "text/plain": [
       "'spotify:track:01SfTM5nfCou5gQL70r6gs'"
      ]
     },
     "execution_count": 12,
     "metadata": {},
     "output_type": "execute_result"
    }
   ],
   "source": [
    "results[0]['uri']"
   ]
  },
  {
   "cell_type": "code",
   "execution_count": 13,
   "metadata": {},
   "outputs": [
    {
     "name": "stdout",
     "output_type": "stream",
     "text": [
      "spotify:track:3LwfE3USKwANPjPz34iGDZ\n",
      "Hyper Music\n",
      "Origin Of Symmetry\n",
      "Muse\n"
     ]
    }
   ],
   "source": [
    "trackname = 'Hyper Music'\n",
    "results = sp.search(trackname,limit=3,type=\"track\")['tracks']['items']\n",
    "print(results[0]['uri'], results[0]['name'], results[0]['album']['name'], results[0]['artists'][0]['name'],sep='\\n')"
   ]
  },
  {
   "cell_type": "code",
   "execution_count": 14,
   "metadata": {},
   "outputs": [
    {
     "name": "stdout",
     "output_type": "stream",
     "text": [
      "spotify:track:429MqIq5nGH32feyRZHunv\n",
      "Plug In Baby\n",
      "Origin Of Symmetry\n",
      "Muse\n"
     ]
    }
   ],
   "source": [
    "trackname = 'Plug in Baby'\n",
    "results = sp.search(trackname,limit=3,type=\"track\")['tracks']['items']\n",
    "print(results[0]['uri'], results[0]['name'], results[0]['album']['name'], results[0]['artists'][0]['name'],sep='\\n')"
   ]
  },
  {
   "cell_type": "code",
   "execution_count": 15,
   "metadata": {
    "collapsed": true
   },
   "outputs": [],
   "source": [
    "import numpy as np"
   ]
  },
  {
   "cell_type": "code",
   "execution_count": 16,
   "metadata": {},
   "outputs": [
    {
     "data": {
      "text/plain": [
       "array([ 1,  4,  9, 16, 25])"
      ]
     },
     "execution_count": 16,
     "metadata": {},
     "output_type": "execute_result"
    }
   ],
   "source": [
    "np.array(list(map(lambda x : x**2,[1,2,3,4,5])))"
   ]
  },
  {
   "cell_type": "code",
   "execution_count": 17,
   "metadata": {},
   "outputs": [],
   "source": [
    "def getMetaData(songID):\n",
    "    \"\"\"\n",
    "    Assume spotipy has already been initiated as sp\n",
    "    songID is a string that indicates the spotify ID\n",
    "    \"\"\"\n",
    "    results = sp.audio_analysis(songID)\n",
    "    last_section = results['sections'][-1]\n",
    "    last_section_time = last_section['duration']\n",
    "    segment_durations = 0\n",
    "    segment_list = []\n",
    "    for segment in results['segments'][::-1]:\n",
    "        segment_list.append(segment)\n",
    "        segment_durations = segment_durations + segment['duration']\n",
    "        if segment_durations > last_section_time:\n",
    "            break\n",
    "            \n",
    "    ## Segment Analysis\n",
    "    all_pitches = np.array(list(map(lambda x : np.array(x['pitches'])*x['duration']/segment_durations, segment_list)))\n",
    "    all_pitches = np.mean(all_pitches,axis=0)\n",
    "    all_timbre = np.array(list(map(lambda x : np.array(x['timbre'])*x['duration']/segment_durations, segment_list)))\n",
    "    all_timbre = np.mean(all_timbre,axis=0)\n",
    "    \n",
    "    \n",
    "    return np.concatenate([all_pitches,all_timbre,\n",
    "                           [last_section['key']],[last_section['mode']],\n",
    "                           [last_section['tempo']],[last_section['time_signature']]])"
   ]
  },
  {
   "cell_type": "code",
   "execution_count": 18,
   "metadata": {},
   "outputs": [
    {
     "data": {
      "text/plain": [
       "array([  4.52818603e-03,   5.34589441e-03,   2.26670455e-02,\n",
       "         4.87355205e-03,   6.53165212e-03,   4.14161658e-03,\n",
       "         5.01310395e-03,   2.70174234e-02,   4.69997068e-03,\n",
       "         9.63814002e-03,   3.03260382e-03,   6.70987349e-03,\n",
       "         1.28452361e+00,   1.57542692e+00,  -3.89197561e-01,\n",
       "         2.59472834e+00,  -6.36650510e-01,  -1.07673244e+00,\n",
       "        -9.17548014e-01,   2.14649444e-01,  -1.85827140e-01,\n",
       "        -5.98507793e-02,  -8.38777259e-01,   2.51917588e-01,\n",
       "         2.00000000e+00,   1.00000000e+00,   1.34974000e+02,\n",
       "         4.00000000e+00])"
      ]
     },
     "execution_count": 18,
     "metadata": {},
     "output_type": "execute_result"
    }
   ],
   "source": [
    "getMetaData(\"spotify:track:429MqIq5nGH32feyRZHunv\")"
   ]
  },
  {
   "cell_type": "code",
   "execution_count": 19,
   "metadata": {
    "scrolled": true
   },
   "outputs": [
    {
     "data": {
      "text/plain": [
       "dict_keys(['album', 'artists', 'available_markets', 'disc_number', 'duration_ms', 'explicit', 'external_ids', 'external_urls', 'href', 'id', 'is_local', 'name', 'popularity', 'preview_url', 'track_number', 'type', 'uri'])"
      ]
     },
     "execution_count": 19,
     "metadata": {},
     "output_type": "execute_result"
    }
   ],
   "source": [
    "sp.track('spotify:track:429MqIq5nGH32feyRZHunv').keys()"
   ]
  },
  {
   "cell_type": "code",
   "execution_count": 20,
   "metadata": {},
   "outputs": [],
   "source": [
    "results = sp.audio_analysis(\"spotify:track:429MqIq5nGH32feyRZHunv\")"
   ]
  },
  {
   "cell_type": "code",
   "execution_count": 21,
   "metadata": {},
   "outputs": [
    {
     "data": {
      "text/plain": [
       "dict_keys(['meta', 'track', 'bars', 'beats', 'tatums', 'sections', 'segments'])"
      ]
     },
     "execution_count": 21,
     "metadata": {},
     "output_type": "execute_result"
    }
   ],
   "source": [
    "results.keys()"
   ]
  },
  {
   "cell_type": "code",
   "execution_count": 22,
   "metadata": {
    "scrolled": true
   },
   "outputs": [
    {
     "data": {
      "text/plain": [
       "{'confidence': 1.0,\n",
       " 'duration': 13.59816,\n",
       " 'key': 2,\n",
       " 'key_confidence': 0.033,\n",
       " 'loudness': -14.265,\n",
       " 'mode': 1,\n",
       " 'mode_confidence': 0.496,\n",
       " 'start': 204.40184,\n",
       " 'tempo': 134.974,\n",
       " 'tempo_confidence': 0.232,\n",
       " 'time_signature': 4,\n",
       " 'time_signature_confidence': 1.0}"
      ]
     },
     "execution_count": 22,
     "metadata": {},
     "output_type": "execute_result"
    }
   ],
   "source": [
    "results['sections'][-1]"
   ]
  },
  {
   "cell_type": "code",
   "execution_count": 23,
   "metadata": {
    "scrolled": false
   },
   "outputs": [
    {
     "data": {
      "text/plain": [
       "{'confidence': 1.0,\n",
       " 'duration': 3.50272,\n",
       " 'loudness_end': -60.0,\n",
       " 'loudness_max': -14.033,\n",
       " 'loudness_max_time': 0.01422,\n",
       " 'loudness_start': -28.588,\n",
       " 'pitches': [0.048,\n",
       "  0.053,\n",
       "  0.941,\n",
       "  0.03,\n",
       "  0.03,\n",
       "  0.046,\n",
       "  0.024,\n",
       "  1.0,\n",
       "  0.028,\n",
       "  0.036,\n",
       "  0.021,\n",
       "  0.072],\n",
       " 'start': 214.49728,\n",
       " 'timbre': [29.809,\n",
       "  49.862,\n",
       "  -118.811,\n",
       "  300.273,\n",
       "  -14.522,\n",
       "  -63.36,\n",
       "  -71.816,\n",
       "  53.15,\n",
       "  -9.461,\n",
       "  -10.152,\n",
       "  -83.869,\n",
       "  9.945]}"
      ]
     },
     "execution_count": 23,
     "metadata": {},
     "output_type": "execute_result"
    }
   ],
   "source": [
    "results['segments'][-1]"
   ]
  },
  {
   "cell_type": "code",
   "execution_count": null,
   "metadata": {
    "collapsed": true
   },
   "outputs": [],
   "source": []
  }
 ],
 "metadata": {
  "colab": {
   "collapsed_sections": [],
   "include_colab_link": true,
   "name": "playground.ipynb",
   "provenance": [],
   "version": "0.3.2"
  },
  "kernelspec": {
   "display_name": "Python 3",
   "language": "python",
   "name": "python3"
  },
  "language_info": {
   "codemirror_mode": {
    "name": "ipython",
    "version": 3
   },
   "file_extension": ".py",
   "mimetype": "text/x-python",
   "name": "python",
   "nbconvert_exporter": "python",
   "pygments_lexer": "ipython3",
   "version": "3.6.3"
  }
 },
 "nbformat": 4,
 "nbformat_minor": 1
}

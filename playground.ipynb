{
  "nbformat": 4,
  "nbformat_minor": 0,
  "metadata": {
    "colab": {
      "name": "playground.ipynb",
      "version": "0.3.2",
      "provenance": [],
      "collapsed_sections": [],
      "toc_visible": true,
      "include_colab_link": true
    },
    "kernelspec": {
      "name": "python3",
      "display_name": "Python 3"
    }
  },
  "cells": [
    {
      "cell_type": "markdown",
      "metadata": {
        "id": "view-in-github",
        "colab_type": "text"
      },
      "source": [
        "<a href=\"https://colab.research.google.com/github/kelliebanzon/slo-hacks-2019/blob/master/playground.ipynb\" target=\"_parent\"><img src=\"https://colab.research.google.com/assets/colab-badge.svg\" alt=\"Open In Colab\"/></a>"
      ]
    },
    {
      "metadata": {
        "id": "kGlJqvVwllCa",
        "colab_type": "text"
      },
      "cell_type": "markdown",
      "source": [
        "**Setup**"
      ]
    },
    {
      "metadata": {
        "id": "WIHtKVo_Wkmu",
        "colab_type": "code",
        "outputId": "88e58b89-ae7a-458f-c56a-7e703dd6c379",
        "colab": {
          "base_uri": "https://localhost:8080/",
          "height": 240
        }
      },
      "cell_type": "code",
      "source": [
        "!pip install spotipy"
      ],
      "execution_count": 0,
      "outputs": [
        {
          "output_type": "stream",
          "text": [
            "Collecting spotipy\n",
            "  Downloading https://files.pythonhosted.org/packages/59/46/3c957255c96910a8a0e2d9c25db1de51a8676ebba01d7966bedc6e748822/spotipy-2.4.4.tar.gz\n",
            "Requirement already satisfied: requests>=1.0 in /usr/local/lib/python3.6/dist-packages (from spotipy) (2.18.4)\n",
            "Requirement already satisfied: idna<2.7,>=2.5 in /usr/local/lib/python3.6/dist-packages (from requests>=1.0->spotipy) (2.6)\n",
            "Requirement already satisfied: certifi>=2017.4.17 in /usr/local/lib/python3.6/dist-packages (from requests>=1.0->spotipy) (2018.11.29)\n",
            "Requirement already satisfied: chardet<3.1.0,>=3.0.2 in /usr/local/lib/python3.6/dist-packages (from requests>=1.0->spotipy) (3.0.4)\n",
            "Requirement already satisfied: urllib3<1.23,>=1.21.1 in /usr/local/lib/python3.6/dist-packages (from requests>=1.0->spotipy) (1.22)\n",
            "Building wheels for collected packages: spotipy\n",
            "  Building wheel for spotipy (setup.py) ... \u001b[?25ldone\n",
            "\u001b[?25h  Stored in directory: /root/.cache/pip/wheels/76/28/19/a86ca9bb0e32dbd4a4f580870250f5aeef852870578e0427e6\n",
            "Successfully built spotipy\n"
          ],
          "name": "stdout"
        }
      ]
    },
    {
      "metadata": {
        "id": "7BjUUJpMWz4y",
        "colab_type": "code",
        "colab": {}
      },
      "cell_type": "code",
      "source": [
        "import sys\n",
        "import json\n",
        "import spotipy\n",
        "import spotipy.util as util\n",
        "from spotipy.oauth2 import SpotifyClientCredentials\n",
        "import pandas as pd\n",
        "import numpy as np\n",
        "import glob\n"
      ],
      "execution_count": 0,
      "outputs": []
    },
    {
      "metadata": {
        "id": "FTtWo5-JLd6x",
        "colab_type": "code",
        "colab": {}
      },
      "cell_type": "code",
      "source": [
        "from google.colab import drive\n",
        "drive.mount('/gdrive', force_remount=True)"
      ],
      "execution_count": 0,
      "outputs": []
    },
    {
      "metadata": {
        "id": "YfHtkrveN1aa",
        "colab_type": "code",
        "colab": {}
      },
      "cell_type": "code",
      "source": [
        "file_path = glob.glob(\"/gdrive/My Drive/programming/hackathons/sloHacks2019/tracks.csv\")\n",
        "tracks = pd.read_csv(\"/gdrive/My Drive/programming/hackathons/sloHacks2019/tracks.csv\")"
      ],
      "execution_count": 0,
      "outputs": []
    },
    {
      "metadata": {
        "id": "oklQQOEYN7-u",
        "colab_type": "code",
        "colab": {
          "base_uri": "https://localhost:8080/",
          "height": 451
        },
        "outputId": "96b2797f-70a2-42a7-973b-bff6ba09cb00"
      },
      "cell_type": "code",
      "source": [
        "tracks.head()"
      ],
      "execution_count": 5,
      "outputs": [
        {
          "output_type": "execute_result",
          "data": {
            "text/html": [
              "<div>\n",
              "<style scoped>\n",
              "    .dataframe tbody tr th:only-of-type {\n",
              "        vertical-align: middle;\n",
              "    }\n",
              "\n",
              "    .dataframe tbody tr th {\n",
              "        vertical-align: top;\n",
              "    }\n",
              "\n",
              "    .dataframe thead th {\n",
              "        text-align: right;\n",
              "    }\n",
              "</style>\n",
              "<table border=\"1\" class=\"dataframe\">\n",
              "  <thead>\n",
              "    <tr style=\"text-align: right;\">\n",
              "      <th></th>\n",
              "      <th>rating</th>\n",
              "      <th>track_1</th>\n",
              "      <th>artist_1</th>\n",
              "      <th>album_1</th>\n",
              "      <th>uri_1</th>\n",
              "      <th>track_2</th>\n",
              "      <th>artist_2</th>\n",
              "      <th>album_2</th>\n",
              "      <th>uri_2</th>\n",
              "      <th>is_pop</th>\n",
              "    </tr>\n",
              "  </thead>\n",
              "  <tbody>\n",
              "    <tr>\n",
              "      <th>0</th>\n",
              "      <td>0.0</td>\n",
              "      <td>Palm Dreams</td>\n",
              "      <td>Hayley Kiyoko</td>\n",
              "      <td>Expectations</td>\n",
              "      <td>spotify:track:3qDaH8tgcdzdpxaL7CyW2s</td>\n",
              "      <td>The 1975</td>\n",
              "      <td>The 1975</td>\n",
              "      <td>I like it when you sleep, for you are so beaut...</td>\n",
              "      <td>spotify:track:4ZEvWpjUBtL9gjVIzB2Wbr</td>\n",
              "      <td>NaN</td>\n",
              "    </tr>\n",
              "    <tr>\n",
              "      <th>1</th>\n",
              "      <td>0.0</td>\n",
              "      <td>Let It Be</td>\n",
              "      <td>Hayley Kiyoko</td>\n",
              "      <td>Expectations</td>\n",
              "      <td>spotify:track:181uk7o0ajEG8F1HYrqbxu</td>\n",
              "      <td>The 1975</td>\n",
              "      <td>The 1975</td>\n",
              "      <td>A Brief Inquiry Into Online Relationships</td>\n",
              "      <td>spotify:track:7dvM0LbJ4pu1tDJnCH1Ahg</td>\n",
              "      <td>NaN</td>\n",
              "    </tr>\n",
              "    <tr>\n",
              "      <th>2</th>\n",
              "      <td>0.0</td>\n",
              "      <td>TOOTIMETOOTIMETOOTIME</td>\n",
              "      <td>The 1976</td>\n",
              "      <td>A Brief Inquiry Into Online Relationships</td>\n",
              "      <td>spotify:track:33DzKnwuBE6lfOiADwzd5E</td>\n",
              "      <td>How To Draw / Petrichor</td>\n",
              "      <td>The 1976</td>\n",
              "      <td>A Brief Inquiry Into Online Relationships</td>\n",
              "      <td>spotify:track:1bTfkhyNrSmthxL7P5yGDJ</td>\n",
              "      <td>NaN</td>\n",
              "    </tr>\n",
              "    <tr>\n",
              "      <th>3</th>\n",
              "      <td>0.0</td>\n",
              "      <td>Vibe</td>\n",
              "      <td>Tove Stryke</td>\n",
              "      <td>NaN</td>\n",
              "      <td>spotify:track:7rXOrI115JVyhBfM2DRKwZ</td>\n",
              "      <td>Rooftop - Acoustic</td>\n",
              "      <td>Clara Mae</td>\n",
              "      <td>Sorry for Writing All the Songs About You</td>\n",
              "      <td>spotify:track:7m34nMTiU0KwhsMSBmUhde</td>\n",
              "      <td>NaN</td>\n",
              "    </tr>\n",
              "    <tr>\n",
              "      <th>4</th>\n",
              "      <td>0.0</td>\n",
              "      <td>Good Mourning</td>\n",
              "      <td>Halsey</td>\n",
              "      <td>hopeless fountain kingdom</td>\n",
              "      <td>spotify:track:6Ck8Lq4srTWQP1PXZ9P8aZ</td>\n",
              "      <td>Wait Up</td>\n",
              "      <td>Charlotte Lawrence</td>\n",
              "      <td>NaN</td>\n",
              "      <td>spotify:track:6VM9H9tmexHFNLePOXOVPX</td>\n",
              "      <td>NaN</td>\n",
              "    </tr>\n",
              "  </tbody>\n",
              "</table>\n",
              "</div>"
            ],
            "text/plain": [
              "   rating                track_1       artist_1  \\\n",
              "0     0.0            Palm Dreams  Hayley Kiyoko   \n",
              "1     0.0              Let It Be  Hayley Kiyoko   \n",
              "2     0.0  TOOTIMETOOTIMETOOTIME       The 1976   \n",
              "3     0.0                   Vibe    Tove Stryke   \n",
              "4     0.0          Good Mourning         Halsey   \n",
              "\n",
              "                                     album_1  \\\n",
              "0                               Expectations   \n",
              "1                               Expectations   \n",
              "2  A Brief Inquiry Into Online Relationships   \n",
              "3                                        NaN   \n",
              "4                  hopeless fountain kingdom   \n",
              "\n",
              "                                  uri_1                  track_2  \\\n",
              "0  spotify:track:3qDaH8tgcdzdpxaL7CyW2s                 The 1975   \n",
              "1  spotify:track:181uk7o0ajEG8F1HYrqbxu                 The 1975   \n",
              "2  spotify:track:33DzKnwuBE6lfOiADwzd5E  How To Draw / Petrichor   \n",
              "3  spotify:track:7rXOrI115JVyhBfM2DRKwZ       Rooftop - Acoustic   \n",
              "4  spotify:track:6Ck8Lq4srTWQP1PXZ9P8aZ                  Wait Up   \n",
              "\n",
              "             artist_2                                            album_2  \\\n",
              "0            The 1975  I like it when you sleep, for you are so beaut...   \n",
              "1            The 1975          A Brief Inquiry Into Online Relationships   \n",
              "2            The 1976          A Brief Inquiry Into Online Relationships   \n",
              "3           Clara Mae          Sorry for Writing All the Songs About You   \n",
              "4  Charlotte Lawrence                                                NaN   \n",
              "\n",
              "                                  uri_2  is_pop  \n",
              "0  spotify:track:4ZEvWpjUBtL9gjVIzB2Wbr     NaN  \n",
              "1  spotify:track:7dvM0LbJ4pu1tDJnCH1Ahg     NaN  \n",
              "2  spotify:track:1bTfkhyNrSmthxL7P5yGDJ     NaN  \n",
              "3  spotify:track:7m34nMTiU0KwhsMSBmUhde     NaN  \n",
              "4  spotify:track:6VM9H9tmexHFNLePOXOVPX     NaN  "
            ]
          },
          "metadata": {
            "tags": []
          },
          "execution_count": 5
        }
      ]
    },
    {
      "metadata": {
        "id": "cF_yNqlwZ2Nw",
        "colab_type": "text"
      },
      "cell_type": "markdown",
      "source": [
        "**Authentication**"
      ]
    },
    {
      "metadata": {
        "id": "rYgfr9oFgmaU",
        "colab_type": "code",
        "colab": {}
      },
      "cell_type": "code",
      "source": [
        "username = \"USERNAME\"\n",
        "scope = \"user-library-read\"\n",
        "\n",
        "client_credentials_manager = SpotifyClientCredentials(client_id='CLIENT-ID', client_secret='CLIENT-SECRET')\n",
        "sp = spotipy.Spotify(client_credentials_manager=client_credentials_manager)"
      ],
      "execution_count": 0,
      "outputs": []
    },
    {
      "metadata": {
        "id": "8f-A7o-Rs5P6",
        "colab_type": "text"
      },
      "cell_type": "markdown",
      "source": [
        "**Get Audio Features**"
      ]
    },
    {
      "metadata": {
        "id": "I284cxVYR0An",
        "colab_type": "code",
        "colab": {}
      },
      "cell_type": "code",
      "source": [
        "# returns dataframe with the 'Audio Features' for pair of songs in a single row\n",
        "def getAudioFeatures(row):\n",
        "  uri_1 = row['uri_1']\n",
        "  uri_2 = row['uri_2']\n",
        " \n",
        "  raw_1  = sp.audio_features(uri_1)\n",
        "  raw_2  = sp.audio_features(uri_2)\n",
        "  \n",
        "  features_1 = pd.DataFrame(raw_1)\n",
        "  features_2 = pd.DataFrame(raw_2)\n",
        "  features_1 = features_1.drop(columns=['duration_ms', 'key', 'id', 'uri', 'track_href', 'analysis_url'])\n",
        "  features_2 = features_2.drop(columns=['duration_ms', 'key', 'id', 'uri', 'track_href', 'analysis_url'])\n",
        "  \n",
        "  features_1 = features_1.add_suffix(\"_1\")\n",
        "  features_2 = features_2.add_suffix(\"_2\")\n",
        " \n",
        "  return pd.concat([features_1, features_2], axis=1)"
      ],
      "execution_count": 0,
      "outputs": []
    },
    {
      "metadata": {
        "id": "rKT74JMy2LI6",
        "colab_type": "code",
        "colab": {
          "base_uri": "https://localhost:8080/",
          "height": 87
        },
        "outputId": "ae280e13-e7f7-49fe-9b55-57302c937947"
      },
      "cell_type": "code",
      "source": [
        "# loop though handmade list containing pairs of songs\n",
        "features = getAudioFeatures(tracks.loc[0])\n",
        "for i in range(1, len(tracks)):\n",
        "  features = pd.concat([features, getAudioFeatures(tracks.loc[i])], axis=0)"
      ],
      "execution_count": 15,
      "outputs": [
        {
          "output_type": "stream",
          "text": [
            "retrying ...3secs\n",
            "retrying ...1secs\n",
            "retrying ...2secs\n",
            "retrying ...1secs\n"
          ],
          "name": "stdout"
        }
      ]
    },
    {
      "metadata": {
        "id": "bFl3mkpLZAFM",
        "colab_type": "code",
        "colab": {
          "base_uri": "https://localhost:8080/",
          "height": 246
        },
        "outputId": "9d9976fa-60fc-4757-a446-19a750156079"
      },
      "cell_type": "code",
      "source": [
        "features.head()"
      ],
      "execution_count": 17,
      "outputs": [
        {
          "output_type": "execute_result",
          "data": {
            "text/html": [
              "<div>\n",
              "<style scoped>\n",
              "    .dataframe tbody tr th:only-of-type {\n",
              "        vertical-align: middle;\n",
              "    }\n",
              "\n",
              "    .dataframe tbody tr th {\n",
              "        vertical-align: top;\n",
              "    }\n",
              "\n",
              "    .dataframe thead th {\n",
              "        text-align: right;\n",
              "    }\n",
              "</style>\n",
              "<table border=\"1\" class=\"dataframe\">\n",
              "  <thead>\n",
              "    <tr style=\"text-align: right;\">\n",
              "      <th></th>\n",
              "      <th>acousticness_1</th>\n",
              "      <th>danceability_1</th>\n",
              "      <th>energy_1</th>\n",
              "      <th>instrumentalness_1</th>\n",
              "      <th>liveness_1</th>\n",
              "      <th>loudness_1</th>\n",
              "      <th>mode_1</th>\n",
              "      <th>speechiness_1</th>\n",
              "      <th>tempo_1</th>\n",
              "      <th>time_signature_1</th>\n",
              "      <th>...</th>\n",
              "      <th>energy_2</th>\n",
              "      <th>instrumentalness_2</th>\n",
              "      <th>liveness_2</th>\n",
              "      <th>loudness_2</th>\n",
              "      <th>mode_2</th>\n",
              "      <th>speechiness_2</th>\n",
              "      <th>tempo_2</th>\n",
              "      <th>time_signature_2</th>\n",
              "      <th>type_2</th>\n",
              "      <th>valence_2</th>\n",
              "    </tr>\n",
              "  </thead>\n",
              "  <tbody>\n",
              "    <tr>\n",
              "      <th>0</th>\n",
              "      <td>0.122</td>\n",
              "      <td>0.654</td>\n",
              "      <td>0.772</td>\n",
              "      <td>0.000063</td>\n",
              "      <td>0.2190</td>\n",
              "      <td>-5.169</td>\n",
              "      <td>1</td>\n",
              "      <td>0.0589</td>\n",
              "      <td>103.999</td>\n",
              "      <td>4</td>\n",
              "      <td>...</td>\n",
              "      <td>0.459</td>\n",
              "      <td>0.022300</td>\n",
              "      <td>0.4100</td>\n",
              "      <td>-9.873</td>\n",
              "      <td>1</td>\n",
              "      <td>0.0448</td>\n",
              "      <td>85.108</td>\n",
              "      <td>3</td>\n",
              "      <td>audio_features</td>\n",
              "      <td>0.0726</td>\n",
              "    </tr>\n",
              "    <tr>\n",
              "      <th>0</th>\n",
              "      <td>0.395</td>\n",
              "      <td>0.588</td>\n",
              "      <td>0.834</td>\n",
              "      <td>0.000004</td>\n",
              "      <td>0.1270</td>\n",
              "      <td>-4.367</td>\n",
              "      <td>1</td>\n",
              "      <td>0.0466</td>\n",
              "      <td>79.959</td>\n",
              "      <td>4</td>\n",
              "      <td>...</td>\n",
              "      <td>0.129</td>\n",
              "      <td>0.000000</td>\n",
              "      <td>0.0918</td>\n",
              "      <td>-13.173</td>\n",
              "      <td>1</td>\n",
              "      <td>0.1030</td>\n",
              "      <td>138.404</td>\n",
              "      <td>4</td>\n",
              "      <td>audio_features</td>\n",
              "      <td>0.2780</td>\n",
              "    </tr>\n",
              "    <tr>\n",
              "      <th>0</th>\n",
              "      <td>0.209</td>\n",
              "      <td>0.667</td>\n",
              "      <td>0.798</td>\n",
              "      <td>0.015000</td>\n",
              "      <td>0.0972</td>\n",
              "      <td>-5.935</td>\n",
              "      <td>1</td>\n",
              "      <td>0.0675</td>\n",
              "      <td>114.981</td>\n",
              "      <td>4</td>\n",
              "      <td>...</td>\n",
              "      <td>0.792</td>\n",
              "      <td>0.292000</td>\n",
              "      <td>0.0727</td>\n",
              "      <td>-7.951</td>\n",
              "      <td>1</td>\n",
              "      <td>0.2610</td>\n",
              "      <td>138.228</td>\n",
              "      <td>4</td>\n",
              "      <td>audio_features</td>\n",
              "      <td>0.0386</td>\n",
              "    </tr>\n",
              "    <tr>\n",
              "      <th>0</th>\n",
              "      <td>0.297</td>\n",
              "      <td>0.586</td>\n",
              "      <td>0.567</td>\n",
              "      <td>0.000000</td>\n",
              "      <td>0.1010</td>\n",
              "      <td>-8.832</td>\n",
              "      <td>1</td>\n",
              "      <td>0.0522</td>\n",
              "      <td>132.027</td>\n",
              "      <td>4</td>\n",
              "      <td>...</td>\n",
              "      <td>0.246</td>\n",
              "      <td>0.000000</td>\n",
              "      <td>0.4110</td>\n",
              "      <td>-12.258</td>\n",
              "      <td>1</td>\n",
              "      <td>0.1570</td>\n",
              "      <td>178.577</td>\n",
              "      <td>4</td>\n",
              "      <td>audio_features</td>\n",
              "      <td>0.5120</td>\n",
              "    </tr>\n",
              "    <tr>\n",
              "      <th>0</th>\n",
              "      <td>0.713</td>\n",
              "      <td>0.629</td>\n",
              "      <td>0.530</td>\n",
              "      <td>0.027400</td>\n",
              "      <td>0.4120</td>\n",
              "      <td>-9.943</td>\n",
              "      <td>0</td>\n",
              "      <td>0.0556</td>\n",
              "      <td>99.806</td>\n",
              "      <td>4</td>\n",
              "      <td>...</td>\n",
              "      <td>0.705</td>\n",
              "      <td>0.000032</td>\n",
              "      <td>0.1280</td>\n",
              "      <td>-2.941</td>\n",
              "      <td>0</td>\n",
              "      <td>0.0344</td>\n",
              "      <td>101.075</td>\n",
              "      <td>4</td>\n",
              "      <td>audio_features</td>\n",
              "      <td>0.3820</td>\n",
              "    </tr>\n",
              "  </tbody>\n",
              "</table>\n",
              "<p>5 rows × 24 columns</p>\n",
              "</div>"
            ],
            "text/plain": [
              "   acousticness_1  danceability_1  energy_1  instrumentalness_1  liveness_1  \\\n",
              "0           0.122           0.654     0.772            0.000063      0.2190   \n",
              "0           0.395           0.588     0.834            0.000004      0.1270   \n",
              "0           0.209           0.667     0.798            0.015000      0.0972   \n",
              "0           0.297           0.586     0.567            0.000000      0.1010   \n",
              "0           0.713           0.629     0.530            0.027400      0.4120   \n",
              "\n",
              "   loudness_1  mode_1  speechiness_1  tempo_1  time_signature_1    ...      \\\n",
              "0      -5.169       1         0.0589  103.999                 4    ...       \n",
              "0      -4.367       1         0.0466   79.959                 4    ...       \n",
              "0      -5.935       1         0.0675  114.981                 4    ...       \n",
              "0      -8.832       1         0.0522  132.027                 4    ...       \n",
              "0      -9.943       0         0.0556   99.806                 4    ...       \n",
              "\n",
              "  energy_2  instrumentalness_2  liveness_2  loudness_2  mode_2  speechiness_2  \\\n",
              "0    0.459            0.022300      0.4100      -9.873       1         0.0448   \n",
              "0    0.129            0.000000      0.0918     -13.173       1         0.1030   \n",
              "0    0.792            0.292000      0.0727      -7.951       1         0.2610   \n",
              "0    0.246            0.000000      0.4110     -12.258       1         0.1570   \n",
              "0    0.705            0.000032      0.1280      -2.941       0         0.0344   \n",
              "\n",
              "   tempo_2  time_signature_2          type_2  valence_2  \n",
              "0   85.108                 3  audio_features     0.0726  \n",
              "0  138.404                 4  audio_features     0.2780  \n",
              "0  138.228                 4  audio_features     0.0386  \n",
              "0  178.577                 4  audio_features     0.5120  \n",
              "0  101.075                 4  audio_features     0.3820  \n",
              "\n",
              "[5 rows x 24 columns]"
            ]
          },
          "metadata": {
            "tags": []
          },
          "execution_count": 17
        }
      ]
    },
    {
      "metadata": {
        "id": "7yt_rtVqcWEE",
        "colab_type": "code",
        "colab": {}
      },
      "cell_type": "code",
      "source": [
        "# NOTE: run only unpdating dataset\n",
        "# features.to_csv(\"tags.csv\")"
      ],
      "execution_count": 0,
      "outputs": []
    }
  ]
}